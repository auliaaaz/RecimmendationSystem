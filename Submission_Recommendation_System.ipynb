{
  "nbformat": 4,
  "nbformat_minor": 0,
  "metadata": {
    "colab": {
      "provenance": []
    },
    "kernelspec": {
      "name": "python3",
      "display_name": "Python 3"
    },
    "language_info": {
      "name": "python"
    },
    "accelerator": "TPU",
    "gpuClass": "standard"
  },
  "cells": [
    {
      "cell_type": "markdown",
      "source": [
        "Load Dataset"
      ],
      "metadata": {
        "id": "5vX_DsqgiM95"
      }
    },
    {
      "cell_type": "code",
      "execution_count": 1,
      "metadata": {
        "id": "jQorcvUlLFcp",
        "colab": {
          "base_uri": "https://localhost:8080/"
        },
        "outputId": "caa213e6-e80c-4150-f823-55bde6ed0279"
      },
      "outputs": [
        {
          "output_type": "stream",
          "name": "stdout",
          "text": [
            "Archive:  /content/shared_articles.csv.zip\n",
            "  inflating: shared_articles.csv     \n"
          ]
        }
      ],
      "source": [
        "!unzip /content/shared_articles.csv.zip "
      ]
    },
    {
      "cell_type": "code",
      "source": [
        "!unzip /content/users_interactions.csv.zip"
      ],
      "metadata": {
        "colab": {
          "base_uri": "https://localhost:8080/"
        },
        "id": "F_07JqABkVad",
        "outputId": "3b89d07d-dc17-4b99-811e-5fe224f03f01"
      },
      "execution_count": 2,
      "outputs": [
        {
          "output_type": "stream",
          "name": "stdout",
          "text": [
            "Archive:  /content/users_interactions.csv.zip\n",
            "  inflating: users_interactions.csv  \n"
          ]
        }
      ]
    },
    {
      "cell_type": "code",
      "source": [
        "import pandas as pd\n",
        "\n",
        "shared_articles = pd.read_csv(\"/content/shared_articles.csv\")\n",
        "users_interactions = pd.read_csv(\"/content/users_interactions.csv\")\n",
        "\n",
        "print(\"Total shared article\", len(shared_articles.contentId))\n",
        "print(\"Total user interaction with articles\", len(users_interactions.personId))"
      ],
      "metadata": {
        "colab": {
          "base_uri": "https://localhost:8080/"
        },
        "id": "bGzf8kMfkfbX",
        "outputId": "bea5190e-d9c4-4b45-821d-23542061589c"
      },
      "execution_count": 3,
      "outputs": [
        {
          "output_type": "stream",
          "name": "stdout",
          "text": [
            "Total shared article 3122\n",
            "Total user interaction with articles 72312\n"
          ]
        }
      ]
    },
    {
      "cell_type": "markdown",
      "source": [
        "Exploratory Data for Shared Article"
      ],
      "metadata": {
        "id": "qUQ9gvoJ7FuF"
      }
    },
    {
      "cell_type": "code",
      "source": [
        "shared_articles.head(3)"
      ],
      "metadata": {
        "colab": {
          "base_uri": "https://localhost:8080/",
          "height": 589
        },
        "id": "aiDqRO3y9yVr",
        "outputId": "090a5bfa-d3bc-4d9f-bad0-4ead23533705"
      },
      "execution_count": 4,
      "outputs": [
        {
          "output_type": "execute_result",
          "data": {
            "text/plain": [
              "    timestamp        eventType            contentId       authorPersonId  \\\n",
              "0  1459192779  CONTENT REMOVED -6451309518266745024  4340306774493623681   \n",
              "1  1459193988   CONTENT SHARED -4110354420726924665  4340306774493623681   \n",
              "2  1459194146   CONTENT SHARED -7292285110016212249  4340306774493623681   \n",
              "\n",
              "       authorSessionId authorUserAgent authorRegion authorCountry contentType  \\\n",
              "0  8940341205206233829             NaN          NaN           NaN        HTML   \n",
              "1  8940341205206233829             NaN          NaN           NaN        HTML   \n",
              "2  8940341205206233829             NaN          NaN           NaN        HTML   \n",
              "\n",
              "                                                 url  \\\n",
              "0  http://www.nytimes.com/2016/03/28/business/dea...   \n",
              "1  http://www.nytimes.com/2016/03/28/business/dea...   \n",
              "2  http://cointelegraph.com/news/bitcoin-future-w...   \n",
              "\n",
              "                                               title  \\\n",
              "0  Ethereum, a Virtual Currency, Enables Transact...   \n",
              "1  Ethereum, a Virtual Currency, Enables Transact...   \n",
              "2  Bitcoin Future: When GBPcoin of Branson Wins O...   \n",
              "\n",
              "                                                text lang  \n",
              "0  All of this work is still very early. The firs...   en  \n",
              "1  All of this work is still very early. The firs...   en  \n",
              "2  The alarm clock wakes me at 8:00 with stream o...   en  "
            ],
            "text/html": [
              "\n",
              "  <div id=\"df-ded7a551-062b-4818-a955-d210ebe091b6\">\n",
              "    <div class=\"colab-df-container\">\n",
              "      <div>\n",
              "<style scoped>\n",
              "    .dataframe tbody tr th:only-of-type {\n",
              "        vertical-align: middle;\n",
              "    }\n",
              "\n",
              "    .dataframe tbody tr th {\n",
              "        vertical-align: top;\n",
              "    }\n",
              "\n",
              "    .dataframe thead th {\n",
              "        text-align: right;\n",
              "    }\n",
              "</style>\n",
              "<table border=\"1\" class=\"dataframe\">\n",
              "  <thead>\n",
              "    <tr style=\"text-align: right;\">\n",
              "      <th></th>\n",
              "      <th>timestamp</th>\n",
              "      <th>eventType</th>\n",
              "      <th>contentId</th>\n",
              "      <th>authorPersonId</th>\n",
              "      <th>authorSessionId</th>\n",
              "      <th>authorUserAgent</th>\n",
              "      <th>authorRegion</th>\n",
              "      <th>authorCountry</th>\n",
              "      <th>contentType</th>\n",
              "      <th>url</th>\n",
              "      <th>title</th>\n",
              "      <th>text</th>\n",
              "      <th>lang</th>\n",
              "    </tr>\n",
              "  </thead>\n",
              "  <tbody>\n",
              "    <tr>\n",
              "      <th>0</th>\n",
              "      <td>1459192779</td>\n",
              "      <td>CONTENT REMOVED</td>\n",
              "      <td>-6451309518266745024</td>\n",
              "      <td>4340306774493623681</td>\n",
              "      <td>8940341205206233829</td>\n",
              "      <td>NaN</td>\n",
              "      <td>NaN</td>\n",
              "      <td>NaN</td>\n",
              "      <td>HTML</td>\n",
              "      <td>http://www.nytimes.com/2016/03/28/business/dea...</td>\n",
              "      <td>Ethereum, a Virtual Currency, Enables Transact...</td>\n",
              "      <td>All of this work is still very early. The firs...</td>\n",
              "      <td>en</td>\n",
              "    </tr>\n",
              "    <tr>\n",
              "      <th>1</th>\n",
              "      <td>1459193988</td>\n",
              "      <td>CONTENT SHARED</td>\n",
              "      <td>-4110354420726924665</td>\n",
              "      <td>4340306774493623681</td>\n",
              "      <td>8940341205206233829</td>\n",
              "      <td>NaN</td>\n",
              "      <td>NaN</td>\n",
              "      <td>NaN</td>\n",
              "      <td>HTML</td>\n",
              "      <td>http://www.nytimes.com/2016/03/28/business/dea...</td>\n",
              "      <td>Ethereum, a Virtual Currency, Enables Transact...</td>\n",
              "      <td>All of this work is still very early. The firs...</td>\n",
              "      <td>en</td>\n",
              "    </tr>\n",
              "    <tr>\n",
              "      <th>2</th>\n",
              "      <td>1459194146</td>\n",
              "      <td>CONTENT SHARED</td>\n",
              "      <td>-7292285110016212249</td>\n",
              "      <td>4340306774493623681</td>\n",
              "      <td>8940341205206233829</td>\n",
              "      <td>NaN</td>\n",
              "      <td>NaN</td>\n",
              "      <td>NaN</td>\n",
              "      <td>HTML</td>\n",
              "      <td>http://cointelegraph.com/news/bitcoin-future-w...</td>\n",
              "      <td>Bitcoin Future: When GBPcoin of Branson Wins O...</td>\n",
              "      <td>The alarm clock wakes me at 8:00 with stream o...</td>\n",
              "      <td>en</td>\n",
              "    </tr>\n",
              "  </tbody>\n",
              "</table>\n",
              "</div>\n",
              "      <button class=\"colab-df-convert\" onclick=\"convertToInteractive('df-ded7a551-062b-4818-a955-d210ebe091b6')\"\n",
              "              title=\"Convert this dataframe to an interactive table.\"\n",
              "              style=\"display:none;\">\n",
              "        \n",
              "  <svg xmlns=\"http://www.w3.org/2000/svg\" height=\"24px\"viewBox=\"0 0 24 24\"\n",
              "       width=\"24px\">\n",
              "    <path d=\"M0 0h24v24H0V0z\" fill=\"none\"/>\n",
              "    <path d=\"M18.56 5.44l.94 2.06.94-2.06 2.06-.94-2.06-.94-.94-2.06-.94 2.06-2.06.94zm-11 1L8.5 8.5l.94-2.06 2.06-.94-2.06-.94L8.5 2.5l-.94 2.06-2.06.94zm10 10l.94 2.06.94-2.06 2.06-.94-2.06-.94-.94-2.06-.94 2.06-2.06.94z\"/><path d=\"M17.41 7.96l-1.37-1.37c-.4-.4-.92-.59-1.43-.59-.52 0-1.04.2-1.43.59L10.3 9.45l-7.72 7.72c-.78.78-.78 2.05 0 2.83L4 21.41c.39.39.9.59 1.41.59.51 0 1.02-.2 1.41-.59l7.78-7.78 2.81-2.81c.8-.78.8-2.07 0-2.86zM5.41 20L4 18.59l7.72-7.72 1.47 1.35L5.41 20z\"/>\n",
              "  </svg>\n",
              "      </button>\n",
              "      \n",
              "  <style>\n",
              "    .colab-df-container {\n",
              "      display:flex;\n",
              "      flex-wrap:wrap;\n",
              "      gap: 12px;\n",
              "    }\n",
              "\n",
              "    .colab-df-convert {\n",
              "      background-color: #E8F0FE;\n",
              "      border: none;\n",
              "      border-radius: 50%;\n",
              "      cursor: pointer;\n",
              "      display: none;\n",
              "      fill: #1967D2;\n",
              "      height: 32px;\n",
              "      padding: 0 0 0 0;\n",
              "      width: 32px;\n",
              "    }\n",
              "\n",
              "    .colab-df-convert:hover {\n",
              "      background-color: #E2EBFA;\n",
              "      box-shadow: 0px 1px 2px rgba(60, 64, 67, 0.3), 0px 1px 3px 1px rgba(60, 64, 67, 0.15);\n",
              "      fill: #174EA6;\n",
              "    }\n",
              "\n",
              "    [theme=dark] .colab-df-convert {\n",
              "      background-color: #3B4455;\n",
              "      fill: #D2E3FC;\n",
              "    }\n",
              "\n",
              "    [theme=dark] .colab-df-convert:hover {\n",
              "      background-color: #434B5C;\n",
              "      box-shadow: 0px 1px 3px 1px rgba(0, 0, 0, 0.15);\n",
              "      filter: drop-shadow(0px 1px 2px rgba(0, 0, 0, 0.3));\n",
              "      fill: #FFFFFF;\n",
              "    }\n",
              "  </style>\n",
              "\n",
              "      <script>\n",
              "        const buttonEl =\n",
              "          document.querySelector('#df-ded7a551-062b-4818-a955-d210ebe091b6 button.colab-df-convert');\n",
              "        buttonEl.style.display =\n",
              "          google.colab.kernel.accessAllowed ? 'block' : 'none';\n",
              "\n",
              "        async function convertToInteractive(key) {\n",
              "          const element = document.querySelector('#df-ded7a551-062b-4818-a955-d210ebe091b6');\n",
              "          const dataTable =\n",
              "            await google.colab.kernel.invokeFunction('convertToInteractive',\n",
              "                                                     [key], {});\n",
              "          if (!dataTable) return;\n",
              "\n",
              "          const docLinkHtml = 'Like what you see? Visit the ' +\n",
              "            '<a target=\"_blank\" href=https://colab.research.google.com/notebooks/data_table.ipynb>data table notebook</a>'\n",
              "            + ' to learn more about interactive tables.';\n",
              "          element.innerHTML = '';\n",
              "          dataTable['output_type'] = 'display_data';\n",
              "          await google.colab.output.renderOutput(dataTable, element);\n",
              "          const docLink = document.createElement('div');\n",
              "          docLink.innerHTML = docLinkHtml;\n",
              "          element.appendChild(docLink);\n",
              "        }\n",
              "      </script>\n",
              "    </div>\n",
              "  </div>\n",
              "  "
            ]
          },
          "metadata": {},
          "execution_count": 4
        }
      ]
    },
    {
      "cell_type": "code",
      "source": [
        "shared_articles.info()"
      ],
      "metadata": {
        "colab": {
          "base_uri": "https://localhost:8080/"
        },
        "id": "hvke1JxABjsD",
        "outputId": "ddfd271f-85b6-4025-a17e-ab87c46ac1f1"
      },
      "execution_count": 5,
      "outputs": [
        {
          "output_type": "stream",
          "name": "stdout",
          "text": [
            "<class 'pandas.core.frame.DataFrame'>\n",
            "RangeIndex: 3122 entries, 0 to 3121\n",
            "Data columns (total 13 columns):\n",
            " #   Column           Non-Null Count  Dtype \n",
            "---  ------           --------------  ----- \n",
            " 0   timestamp        3122 non-null   int64 \n",
            " 1   eventType        3122 non-null   object\n",
            " 2   contentId        3122 non-null   int64 \n",
            " 3   authorPersonId   3122 non-null   int64 \n",
            " 4   authorSessionId  3122 non-null   int64 \n",
            " 5   authorUserAgent  680 non-null    object\n",
            " 6   authorRegion     680 non-null    object\n",
            " 7   authorCountry    680 non-null    object\n",
            " 8   contentType      3122 non-null   object\n",
            " 9   url              3122 non-null   object\n",
            " 10  title            3122 non-null   object\n",
            " 11  text             3122 non-null   object\n",
            " 12  lang             3122 non-null   object\n",
            "dtypes: int64(4), object(9)\n",
            "memory usage: 317.2+ KB\n"
          ]
        }
      ]
    },
    {
      "cell_type": "code",
      "source": [
        "import seaborn as sns\n",
        "import matplotlib.pyplot as plt\n",
        "\n",
        "sns.countplot(shared_articles['eventType'])"
      ],
      "metadata": {
        "colab": {
          "base_uri": "https://localhost:8080/",
          "height": 354
        },
        "id": "FP4XtDRg6RZF",
        "outputId": "27c1ef22-8a26-4ad7-f5ff-e8c57e044b5e"
      },
      "execution_count": 6,
      "outputs": [
        {
          "output_type": "stream",
          "name": "stderr",
          "text": [
            "/usr/local/lib/python3.8/dist-packages/seaborn/_decorators.py:36: FutureWarning: Pass the following variable as a keyword arg: x. From version 0.12, the only valid positional argument will be `data`, and passing other arguments without an explicit keyword will result in an error or misinterpretation.\n",
            "  warnings.warn(\n"
          ]
        },
        {
          "output_type": "execute_result",
          "data": {
            "text/plain": [
              "<matplotlib.axes._subplots.AxesSubplot at 0x7f0fc6752df0>"
            ]
          },
          "metadata": {},
          "execution_count": 6
        },
        {
          "output_type": "display_data",
          "data": {
            "text/plain": [
              "<Figure size 432x288 with 1 Axes>"
            ],
            "image/png": "[encoded data removed]"
          },
          "metadata": {
            "needs_background": "light"
          }
        }
      ]
    },
    {
      "cell_type": "markdown",
      "source": [
        "Because of 'content remove' is mean that the article content is not available, then 'content remove' will be dropped from the dataset"
      ],
      "metadata": {
        "id": "086nToAplzQc"
      }
    },
    {
      "cell_type": "code",
      "source": [
        "shared_article = shared_articles[shared_articles['eventType'] == 'CONTENT SHARED']\n",
        "shared_article.head(3)"
      ],
      "metadata": {
        "colab": {
          "base_uri": "https://localhost:8080/",
          "height": 606
        },
        "id": "UpxUXyt0mIFP",
        "outputId": "095a9b13-dee3-4b70-c79a-d056af0f6bf5"
      },
      "execution_count": 7,
      "outputs": [
        {
          "output_type": "execute_result",
          "data": {
            "text/plain": [
              "    timestamp       eventType            contentId       authorPersonId  \\\n",
              "1  1459193988  CONTENT SHARED -4110354420726924665  4340306774493623681   \n",
              "2  1459194146  CONTENT SHARED -7292285110016212249  4340306774493623681   \n",
              "3  1459194474  CONTENT SHARED -6151852268067518688  3891637997717104548   \n",
              "\n",
              "       authorSessionId authorUserAgent authorRegion authorCountry contentType  \\\n",
              "1  8940341205206233829             NaN          NaN           NaN        HTML   \n",
              "2  8940341205206233829             NaN          NaN           NaN        HTML   \n",
              "3 -1457532940883382585             NaN          NaN           NaN        HTML   \n",
              "\n",
              "                                                 url  \\\n",
              "1  http://www.nytimes.com/2016/03/28/business/dea...   \n",
              "2  http://cointelegraph.com/news/bitcoin-future-w...   \n",
              "3  https://cloudplatform.googleblog.com/2016/03/G...   \n",
              "\n",
              "                                               title  \\\n",
              "1  Ethereum, a Virtual Currency, Enables Transact...   \n",
              "2  Bitcoin Future: When GBPcoin of Branson Wins O...   \n",
              "3                       Google Data Center 360° Tour   \n",
              "\n",
              "                                                text lang  \n",
              "1  All of this work is still very early. The firs...   en  \n",
              "2  The alarm clock wakes me at 8:00 with stream o...   en  \n",
              "3  We're excited to share the Google Data Center ...   en  "
            ],
            "text/html": [
              "\n",
              "  <div id=\"df-a86125df-ffa4-4d86-a980-01ee56d01089\">\n",
              "    <div class=\"colab-df-container\">\n",
              "      <div>\n",
              "<style scoped>\n",
              "    .dataframe tbody tr th:only-of-type {\n",
              "        vertical-align: middle;\n",
              "    }\n",
              "\n",
              "    .dataframe tbody tr th {\n",
              "        vertical-align: top;\n",
              "    }\n",
              "\n",
              "    .dataframe thead th {\n",
              "        text-align: right;\n",
              "    }\n",
              "</style>\n",
              "<table border=\"1\" class=\"dataframe\">\n",
              "  <thead>\n",
              "    <tr style=\"text-align: right;\">\n",
              "      <th></th>\n",
              "      <th>timestamp</th>\n",
              "      <th>eventType</th>\n",
              "      <th>contentId</th>\n",
              "      <th>authorPersonId</th>\n",
              "      <th>authorSessionId</th>\n",
              "      <th>authorUserAgent</th>\n",
              "      <th>authorRegion</th>\n",
              "      <th>authorCountry</th>\n",
              "      <th>contentType</th>\n",
              "      <th>url</th>\n",
              "      <th>title</th>\n",
              "      <th>text</th>\n",
              "      <th>lang</th>\n",
              "    </tr>\n",
              "  </thead>\n",
              "  <tbody>\n",
              "    <tr>\n",
              "      <th>1</th>\n",
              "      <td>1459193988</td>\n",
              "      <td>CONTENT SHARED</td>\n",
              "      <td>-4110354420726924665</td>\n",
              "      <td>4340306774493623681</td>\n",
              "      <td>8940341205206233829</td>\n",
              "      <td>NaN</td>\n",
              "      <td>NaN</td>\n",
              "      <td>NaN</td>\n",
              "      <td>HTML</td>\n",
              "      <td>http://www.nytimes.com/2016/03/28/business/dea...</td>\n",
              "      <td>Ethereum, a Virtual Currency, Enables Transact...</td>\n",
              "      <td>All of this work is still very early. The firs...</td>\n",
              "      <td>en</td>\n",
              "    </tr>\n",
              "    <tr>\n",
              "      <th>2</th>\n",
              "      <td>1459194146</td>\n",
              "      <td>CONTENT SHARED</td>\n",
              "      <td>-7292285110016212249</td>\n",
              "      <td>4340306774493623681</td>\n",
              "      <td>8940341205206233829</td>\n",
              "      <td>NaN</td>\n",
              "      <td>NaN</td>\n",
              "      <td>NaN</td>\n",
              "      <td>HTML</td>\n",
              "      <td>http://cointelegraph.com/news/bitcoin-future-w...</td>\n",
              "      <td>Bitcoin Future: When GBPcoin of Branson Wins O...</td>\n",
              "      <td>The alarm clock wakes me at 8:00 with stream o...</td>\n",
              "      <td>en</td>\n",
              "    </tr>\n",
              "    <tr>\n",
              "      <th>3</th>\n",
              "      <td>1459194474</td>\n",
              "      <td>CONTENT SHARED</td>\n",
              "      <td>-6151852268067518688</td>\n",
              "      <td>3891637997717104548</td>\n",
              "      <td>-1457532940883382585</td>\n",
              "      <td>NaN</td>\n",
              "      <td>NaN</td>\n",
              "      <td>NaN</td>\n",
              "      <td>HTML</td>\n",
              "      <td>https://cloudplatform.googleblog.com/2016/03/G...</td>\n",
              "      <td>Google Data Center 360° Tour</td>\n",
              "      <td>We're excited to share the Google Data Center ...</td>\n",
              "      <td>en</td>\n",
              "    </tr>\n",
              "  </tbody>\n",
              "</table>\n",
              "</div>\n",
              "      <button class=\"colab-df-convert\" onclick=\"convertToInteractive('df-a86125df-ffa4-4d86-a980-01ee56d01089')\"\n",
              "              title=\"Convert this dataframe to an interactive table.\"\n",
              "              style=\"display:none;\">\n",
              "        \n",
              "  <svg xmlns=\"http://www.w3.org/2000/svg\" height=\"24px\"viewBox=\"0 0 24 24\"\n",
              "       width=\"24px\">\n",
              "    <path d=\"M0 0h24v24H0V0z\" fill=\"none\"/>\n",
              "    <path d=\"M18.56 5.44l.94 2.06.94-2.06 2.06-.94-2.06-.94-.94-2.06-.94 2.06-2.06.94zm-11 1L8.5 8.5l.94-2.06 2.06-.94-2.06-.94L8.5 2.5l-.94 2.06-2.06.94zm10 10l.94 2.06.94-2.06 2.06-.94-2.06-.94-.94-2.06-.94 2.06-2.06.94z\"/><path d=\"M17.41 7.96l-1.37-1.37c-.4-.4-.92-.59-1.43-.59-.52 0-1.04.2-1.43.59L10.3 9.45l-7.72 7.72c-.78.78-.78 2.05 0 2.83L4 21.41c.39.39.9.59 1.41.59.51 0 1.02-.2 1.41-.59l7.78-7.78 2.81-2.81c.8-.78.8-2.07 0-2.86zM5.41 20L4 18.59l7.72-7.72 1.47 1.35L5.41 20z\"/>\n",
              "  </svg>\n",
              "      </button>\n",
              "      \n",
              "  <style>\n",
              "    .colab-df-container {\n",
              "      display:flex;\n",
              "      flex-wrap:wrap;\n",
              "      gap: 12px;\n",
              "    }\n",
              "\n",
              "    .colab-df-convert {\n",
              "      background-color: #E8F0FE;\n",
              "      border: none;\n",
              "      border-radius: 50%;\n",
              "      cursor: pointer;\n",
              "      display: none;\n",
              "      fill: #1967D2;\n",
              "      height: 32px;\n",
              "      padding: 0 0 0 0;\n",
              "      width: 32px;\n",
              "    }\n",
              "\n",
              "    .colab-df-convert:hover {\n",
              "      background-color: #E2EBFA;\n",
              "      box-shadow: 0px 1px 2px rgba(60, 64, 67, 0.3), 0px 1px 3px 1px rgba(60, 64, 67, 0.15);\n",
              "      fill: #174EA6;\n",
              "    }\n",
              "\n",
              "    [theme=dark] .colab-df-convert {\n",
              "      background-color: #3B4455;\n",
              "      fill: #D2E3FC;\n",
              "    }\n",
              "\n",
              "    [theme=dark] .colab-df-convert:hover {\n",
              "      background-color: #434B5C;\n",
              "      box-shadow: 0px 1px 3px 1px rgba(0, 0, 0, 0.15);\n",
              "      filter: drop-shadow(0px 1px 2px rgba(0, 0, 0, 0.3));\n",
              "      fill: #FFFFFF;\n",
              "    }\n",
              "  </style>\n",
              "\n",
              "      <script>\n",
              "        const buttonEl =\n",
              "          document.querySelector('#df-a86125df-ffa4-4d86-a980-01ee56d01089 button.colab-df-convert');\n",
              "        buttonEl.style.display =\n",
              "          google.colab.kernel.accessAllowed ? 'block' : 'none';\n",
              "\n",
              "        async function convertToInteractive(key) {\n",
              "          const element = document.querySelector('#df-a86125df-ffa4-4d86-a980-01ee56d01089');\n",
              "          const dataTable =\n",
              "            await google.colab.kernel.invokeFunction('convertToInteractive',\n",
              "                                                     [key], {});\n",
              "          if (!dataTable) return;\n",
              "\n",
              "          const docLinkHtml = 'Like what you see? Visit the ' +\n",
              "            '<a target=\"_blank\" href=https://colab.research.google.com/notebooks/data_table.ipynb>data table notebook</a>'\n",
              "            + ' to learn more about interactive tables.';\n",
              "          element.innerHTML = '';\n",
              "          dataTable['output_type'] = 'display_data';\n",
              "          await google.colab.output.renderOutput(dataTable, element);\n",
              "          const docLink = document.createElement('div');\n",
              "          docLink.innerHTML = docLinkHtml;\n",
              "          element.appendChild(docLink);\n",
              "        }\n",
              "      </script>\n",
              "    </div>\n",
              "  </div>\n",
              "  "
            ]
          },
          "metadata": {},
          "execution_count": 7
        }
      ]
    },
    {
      "cell_type": "code",
      "source": [
        "sns.countplot(shared_articles['lang'])"
      ],
      "metadata": {
        "colab": {
          "base_uri": "https://localhost:8080/",
          "height": 354
        },
        "id": "qqWSjxJCCy01",
        "outputId": "0dd02193-80c2-4e48-9417-2103ffdabea7"
      },
      "execution_count": 8,
      "outputs": [
        {
          "output_type": "stream",
          "name": "stderr",
          "text": [
            "/usr/local/lib/python3.8/dist-packages/seaborn/_decorators.py:36: FutureWarning: Pass the following variable as a keyword arg: x. From version 0.12, the only valid positional argument will be `data`, and passing other arguments without an explicit keyword will result in an error or misinterpretation.\n",
            "  warnings.warn(\n"
          ]
        },
        {
          "output_type": "execute_result",
          "data": {
            "text/plain": [
              "<matplotlib.axes._subplots.AxesSubplot at 0x7f0fc6693310>"
            ]
          },
          "metadata": {},
          "execution_count": 8
        },
        {
          "output_type": "display_data",
          "data": {
            "text/plain": [
              "<Figure size 432x288 with 1 Axes>"
            ],
            "image/png": "[encoded data removed]"
          },
          "metadata": {
            "needs_background": "light"
          }
        }
      ]
    },
    {
      "cell_type": "code",
      "source": [
        "shared_articles.lang.value_counts()"
      ],
      "metadata": {
        "colab": {
          "base_uri": "https://localhost:8080/"
        },
        "id": "WWskaw79Ck6O",
        "outputId": "634263f5-807e-4fa8-845b-190fdd615bb4"
      },
      "execution_count": 9,
      "outputs": [
        {
          "output_type": "execute_result",
          "data": {
            "text/plain": [
              "en    2264\n",
              "pt     850\n",
              "la       4\n",
              "es       2\n",
              "ja       2\n",
              "Name: lang, dtype: int64"
            ]
          },
          "metadata": {},
          "execution_count": 9
        }
      ]
    },
    {
      "cell_type": "code",
      "source": [
        "shared_articles[shared_articles.lang.isin(['la', 'es', 'ja'])].text.tolist()"
      ],
      "metadata": {
        "colab": {
          "base_uri": "https://localhost:8080/"
        },
        "id": "zB2D_vAkpaqc",
        "outputId": "79440b7f-fe73-4082-a0a9-a3d850dbc6ef"
      },
      "execution_count": 10,
      "outputs": [
        {
          "output_type": "execute_result",
          "data": {
            "text/plain": [
              "['San José, 22 abr (EFE).- Autoridades de Costa Rica presentaron hoy, en el marco del Día de la Tierra, el primer edificio del país construido en parte con Reciclam, un material elaborado a partir de empaques de tetra pak. Se trata del Centro de Gestión y Educación Ambiental (Cegea) del estatal Parque La Libertad, situado en la localidad de Desamparados, en el sector su de San José. El Cegea, que tiene una extensión de 725,6 metros cuadrados, comenzó a ser construido en julio de 2015 y se emplearon aproximadamente 250 láminas de Reciclam para el acondicionamiento de las paredes internas y el mobiliario, informó el Gobierno en un comunicado. El material reciclado fue donado por la Cooperativa de Productores de Leche Dos Pinos R.L. \"El Cegea se constituye como un espacio para promover la recuperación y el fortalecimiento de la educación ambiental. Si queremos ser ciudades sostenibles y hacer de los objetivos globales de desarrollo sostenible un componente personal, hay que educar a la población en que sí hay opciones para tener una vida integral\", dijo la gestora ambiental del Parque La Libertad, Lidia Noches. El Parque La Libertad ofrecerá en el Cegea programas de formación y capacitación en temas ambientales y agropecuarios, especialmente para las comunidades del sur de San José. Desde ese centro también se promoverá la búsqueda de soluciones integrales y participativas que tengan una incidencia en las comunidades y en la calidad de vida de sus habitantes, a partir de una gestión ambiental responsable y sostenible. El Cegea desarrollará tres áreas de abordaje: la sensibilización, la sostenibilidad y la ecoeficiencia. \"Para el Parque La Libertad contar con un espacio tan bien acondicionado para darle servicios a la comunidad en temas de sostenibilidad ambiental es de suma importancia. El espacio en sí mismo es un ejemplo de lo que nosotros tenemos que hacer con nuestras vidas y nuestra responsabilidad con el planeta\", expresó la directora del Parque, Dora Sequeira. EFE',\n",
              " 'La Real Academia Española alerta sobre su abuso en \\'spots\\' y en la sociedad en general Compartir en Facebook Compartir en Twitter Otros Cerrar Compartir en Linkedin Compartir en GooglePlus Compartir en Pinterest Ver comentarios Camapaña de la RAE contra el abuso de anglicismos en la publicidad. Eco-friendly, light o cleaning power . Son solo algunos de los anglicismos más utilizados en la publicidad como reclamo para los consumidores. La RAE y la Academia de la Publicidad se han propuesto luchar contra su uso excesivo mediante un anuncio propio, que evidencia la profusión del léxico procedente del inglés en los comerciales publicitarios. \"La publicidad es uno de los principales sectores implicados, ya que el uso excesivo de los anglicismos en los anuncios que se emiten en España no solo afecta a las marcas, sino directamente a la población en general y a cómo perciben los mensajes comerciales\", ha manifestado Enric Nel-lo, director creativo de Grey España , que coordina la iniciativa. El vídeo se ha presentado durante las jornadas ¿Se habla español en España? , que se celebran este miércoles. Archivado en: Más información Comentarios Normas',\n",
              " '= Kotoshi no aki made niwa kare ga dekiru hazu datta noni... = I was supposed to be able to get a boyfriend by this autumn... Hi, everyone! Today\\'s lesson is my Twitter follower, David and Facebook fan(!?) mew. They both asked me to make a lesson on how and when to use はず (= hazu). I was going to make a mini lesson on Facebook, but it got longer than I expected so here it is. You might think the usage of はず(=hazu) is easy, 易しいはず！= Yasashii hazu = It should be easy! Still the difference of two past tense forms and negative forms might confuse you. Hopefully this lesson will clear things up. to be supposed to do/be, when you expect something, It is certain ~/ must ~ / should~ verb (plain form ) + はず (= hazu) + だ(=da)/ です(=desu) * (です(=desu) is a polite form.) to be supposed to be/do, / I expect ~ / things should work as you have expected. = Kono omocha wa denchi wo iretara ugoku hazu desu. = This toy is supposed to move when you put in batteries. = Maggie wa ima ie ni iru hazu da. = Maggie should be home now. = Koredake benkyou sureba daredemo shiken ni ukaru hazu da. = Ashita nimotsu ga todoku hazuda. = The package is supposed to be delivered tomorrow. / I expect the package will be delivered tomorrow. = Kanojo mo kaigi ni shusseki suru hazu desu. = Mousugu takushii ga kuru hazu desu. = Ano omise wa sokosoko moukatte iru hazu da. = Kono saito ni mainichi kitara ichinengo ni wa nihongo ga kanari joutatsu shiteiru hazu desu. = If you come to this site everyday, your Japanese should improve a lot. When things don\\'t work out as we have expected, we use = hazu nanoni = It is supposed to be ~ but... = Shinbun wa maiasa rokuji ni haitatsu sareru hazu nanoni kyou wa mada kite inai. = They are supposed to deliver the newspapers by 6:00 every morning but they haven\\'t delivered it yet today. Variation : なんだけど(=nandakedo), なのだが (=nanodaga), なのですが(=nanodesu ga), etc. = Mou sororo kare kara denwa ga aru hazu nan dakedo... = He should call me at any minute, but ... (I expect he will call me at any minute.) but... ************************************** Verb Negative Form 1) : : to expect something/someone doesn\\'t do something/isn\\'t ~ = Maggie wa ima ie ni inai hazu da. = Ano geimu wa america dewa utte inai hazu da. = Kanojo wa mada hatachi (or nijussai) ni wa natte inai hazu da. = Konna muzukashii mondai wa kare ni wa tokenai hazu da. = He should not be able to solve such a difficult problem. = Dare mo watashitachi no ibasho wo shiranai hazu nano daga... = Nobody is supposed to know where we are but... = There is no way that someone/something does/is ~ = Kanojo ga anna otoko wo suki ni naru hazu ga nai. = There is no way that she would like that kind of man. = Risou no kare nante iru hazu ga nai. = There is no such thing as an ideal boyfriend. = Sonna yarikata de umaku iku hazu ga arimasen. = It would never work like that. / Things shouldn\\'t work that way. Note : (=hazu ga (wa) nai) is similar to わけがない(=wake ga nai)/ わけはない(=wake wa nai) Go check this lesson (the same thing) ● When you are sure something had happened in past / you or someone did something. /I expect something happened/ I expect someone did something. = Kinou kare wa koko ni kita hazu da. = He must have come here yesterday. = Mou minna neta hazu nanoni ikkai de monooto ga suru. = Everybody should have gone to bed already, but I hear something downstairs. = Isogashii karatte denwa gurai kakeru koto ga dekita hazu desho! = Even though you were busy, you could have at least called me. = Benkyou shinai to shiken niwa ukaranai to wakatte ita hazu da. = You should have known you would fail you didn\\'t study = Koko ni saifu wo oite oita hazu nanoni nai. = I thought I have put my wallet, here but it is gone. = Kasa wo motte kita hazunan dakedo... = Shinda hazu no kare ni atta toiu hito ga iru. = There are people who said they had seen him - and he\\'s supposed to be dead. / There are people who have seen (the supposedly dead) him. = Kono hanashi wa Maggie wa shiranakatta hazu da. = I am sure Maggie didn\\'t know about this. = Anohito no koto wa mou wasureta hazu nanoni... Verb Past Tense 2) = was supposed/expected to have done something/been ~ It is used when the things didn\\'t turn out to be what you had expected. You can tell the speaker is expressing the feelings of regret, unsatisfied feelings, etc. = Kare towa kinou au hazu datta. = I was supposed to see him yesterday. = Subete umaku iku hazu datta noni... = Everything should have gone well. = Kono mama ikeba ooganemochi ni naru hazu datta noni.. = If things had worked out , I would supposedly have become a millionaire Verb past tense 2) - negative form : I was not supposed to do something (expressing the feeling of regret, Disappointment or dissatisfaction) = Konna tokoro ni kuru hazu dewa nakatta. = I was not going to come this kind of place. / I wasn\\'t going to come to a place like this. (more casual) = Konna tokoro ni kuru hazu ja(a) nakatta. Note : In case you get confused... Here is the difference. = Maggie wa sanji ni tsuku hazu da = Maggie is supposed to arrive at 3 o\\'clock. = Maggie wa sanji ni tsuita hazu da. = I expect Maggie arrived at 3:00 = Maggie wa sanji ni tsuku hazu datta. = Maggie was supposed to arrive at 3:00. (but she didn\\'t) = Kotoshi no aki made niwa kare ga dekiru hazu datta noni... = I was supposed to be able to get a boyfriend by this autumn... Note : The translation could be the same, It must be Maggie Sensei who ate my snack. = Watashi no oyatsu wo tabeta no wa Maggie sensei ni chigainai. = Watashi no oyatsu wo tabeta no wa Maggie sensei no hazu da. 違いない(=chinagainai) : when you guess something by intuitive assumption, はず (=hazu) is based on more logical assumption or reliable information. 美味しいはずだ(=oishii hazu da) /美味しいはずです(=oishii hazu desu.) = It should be delicious = Kanojo no tsukutta mono nara nandemo oishii hazuda. = Everything she makes must be delicious./ I expect everything she makes is delicious. = Ano doresu wa kouka na hazu da. = That dress must be expensive. = Maggie no imouto nara kawaii hazu desu. = If she is Maggie\\'s younger sister, she must be cute = Ashita no shiken wa kantanna hazu da. = Maggie Sensei wa shigoto chuu wa motto majime na hazu da. = I expect Maggie Sensei is more serious when she works. / Maggie Sensei should be more serious when she works. Ex. 便利なはずのスマホが時々すごく不便に感じる。 = Benrina hazu no sumaho ga tokidoki sugoku fuben ni kanjiru. There are two negative forms. = Maggie no ryouri ga oishii hazu ga nai. = There is no way that Maggie\\'s cooking is delicious. / Maggie\\'s cooking can\\'t be delicious. / I expect Maggie\\'s cooking can\\'t be good. = Maggie no ryouri wa oishiku nai hazu da. = Maggie\\'s cooking is supposed to be bad. (not delicious) / I am sure that Maggie\\'s cooking is bad. The difference between 1) and 2) Adjectives double negative : But it is more common to say... When you are sure someone/something was ~ in past. /It/Someone was expected to be ~ in past Ex. 今でもこんなにかわいいのだから小さい頃、マギーはもっとかわいかった はずだ。 = Ima demo konnani kawaiino dakara chiisai koro Maggie wa motto kawaikatta hazu da. = Since Maggie is this cute now, she must have been much cuter when she was little. = Kanojo no uedingu doresu sugata wa suteki datta hazu da. = Kinou wa heijitsu datta kara shizuka datta hazuda. = Since it was a weekday yesterday, it must have been very quiet. = Jibun ni totte tokubetu na hazu datta hito ga kirai ni natte kita. = I\\'ve come to dislike someone who was supposed to be special for me. Nouns : = Shiken wa ashita no hazu da. = Kare ga sagashite ita no wa kono hon no hazu da. = The book he was looking for should be this one. = Tashika ni kono michi no hazu da ga... = I\\'m certain to take this street but.. (It should be this street but..) = Gonen mae kare wa mada shougakusei datta hazuda. = Anohito no ie wa kono hen datta hazuda. = Anokoro no yachin wa nanaman-en datta hazu desu. = I think the rent at that time must have been 70,000 yen. Past tense with a noun 2) You use this form when things didn\\'t work out as you planned and you wonder why or express your complains, regrets or unsatisfactory feelings. = Kondo kau no wa neko no hazu datta ga inu wo kau koto ni natta. = Ashita wa kyuujitu no hazu deshita ga shigoto wo shinakute wa ikenaku narimashita. = It was supposed to be my day off tomorrow, but I\\'ll have to work after all. = Kare to wa tomodachi no hazu datta noni dandan suki ni natte kita. = We were supposed to be (just) friends, but I\\'ve begun to like him. = Konna hazu de wa nakatta Note : Again, colloquial Japanese では(= dewa) →じゃ（あ）= ja (a) = Konna hazuja nakatta. = Konsaato wa rokuji ni hajimarun dakke? = The concert will start at 6:00, right? マギー先生より= Maggie Sensei yori = From Maggie Sensei ああ、こんな長いレッスンになるはずじゃなかったんだけど... = Aah, konna nagai ressun ni naru hazu ja nakattan dakedo... = Ah... it wasn\\'t supposed to be this long a lesson but... = Demo kore de minna \"Hazu\" no tsukai kataga wakatta hazu dayone.',\n",
              " 'A соuрlе of weeks ago, I found myself sitting with a numbеr оf bank еxесutivеѕ оvеr lunсh at Singularity University\\'s Exponential Finance conference in New York аnd we discussed futurе trends within rеtаil banking. Aѕ thе соnvеrѕаtiоn went on, we started discussing wаѕ whаt gоеѕ оn inѕidе a brаnсh, bесаuѕе it\\'s thе рubliс fасе оf ѕо many financial inѕtitutiоnѕ. Thеѕе days, retail banking is going through аn unсеrtаin реriоd. Sоmе bаnkѕ likе Citigrоuр are tаlking lауоffѕ аnd brаnсh сlоѕurеѕ whilе оthеr banks are dоubling down аnd building nеw lосаtiоnѕ. Thе layouts for nеw Bank оf America branches lооk more likе a Stаrbuсkѕ, whilе floor plans for оthеr institutions look like thе mаin bridge of Stаrѕhiр Entеrрriѕе. Big bаnkѕ аrе rоlling оut futuriѕtiс brаnсhеѕ tо kеер up with the technology сutting-еdgе, but ассоrding tо finаnсiаl tесhnоlоgу experts, it\\'ѕ a mаjоr wаѕtе оf timе аnd money. Within a dесаdе thе rеtаil bank brаnсh mоdеl will be dead. \" Finаnсе will be thе most disrupted induѕtrу in thе nеxt 10 уеаrѕ ,\" ѕаid Pеtеr Diamandis, executive сhаirmаn and со-fоundеr оf Singulаritу Univеrѕitу, at thе Exроnеntiаl Finаnсе соnfеrеnсе in Nеw Yоrk Citу. Thе mоѕt оbviоuѕ loser, ассоrding tо еxреrtѕ, iѕ аt thе lеvеl оf the rеtаil brаnсhеѕ. \"Bank brаnсhеѕ will mоѕt be gоnе ... thiѕ decade,\" Diamandis said. Brеtt King, fоundеr оf mоbilе banking арр Moven, ѕаid thе banking induѕtrу will experience mоrе diѕruрtiоn in the nеxt 10 years thаn in thе рrеviоuѕ 300 years. Bу 2020 аt lеаѕt 66 percent оf thе global рорulаtiоn will be online, ассоrding tо a соnѕеrvаtivе estimate frоm PHD Vеnturеѕ. Thаt wоuld mean аn аdditiоnаl 3 billiоn glоbаl consumers. Diаmаndiѕ thinkѕ thаt numbеr will соmе in even higher-as mаnу аѕ 5 billiоn new соnѕumеrѕ-bасkеd bу Intеrnеt-еxраnѕiоn рrоjесtѕ like Mаrk Zuckerberg\\'s Internet.org аnd Gооglе\\'ѕ Prоjесt Loon. Thаt\\'ѕ 3 tо 5 billiоn nеw customers not ассоuntеd fоr in the global есоnоmу today entering it. I don\\'t knоw whу finаnсiаl ѕеrviсеѕ соmраniеѕ dоn\\'t get it. Thе biggеѕt bаnkѕ in thе world in 2025 will bе technology companies, and bаnkѕ thаt grеw thrоugh brаnсh acquisitions in the \\'80ѕ аnd \\'90ѕ, thаt grеw bу рhуѕiсаl bаnk рrеѕеnсе, will hаvе a rеаl рrоblеm. Thеу mау hаvе to givе аwау the retail business.\" A big rеаѕоn for thе bold predictions аbоut the divеrgеnt fоrtunеѕ оf bаnking аррѕ аnd branches: Thеrе аrе more than 8,000 fintесh ѕtаrt-uрѕ just in thе U.S. tоdау, and probably double that number outside of the U.S. There is also mоrе venture сарitаl invеѕtmеnt in fintech thаn trаditiоnаl banking induѕtrу invеѕtmеnt in bаnk transformation. Yеt, right nоw thе big-bаnk thinking iѕ thе орроѕitе: Many bаnkѕ соntinuе tо mаkе thе miѕtаkе оf spending ѕignifiсаnt ѕumѕ on bank brаnсhеѕ that lооk mоrе likе Aррlе ѕtоrеѕ thinking the соnѕumеrѕ will rеturn. \"It\\'ѕ nоt a dеѕign issue. It\\'s nоt branches nоt being pretty еnоugh. It\\'s a bеhаviоr рrоblеm, аdding, pеорlе juѕt don\\'t need brаnсhеѕ, аnd this dесlinе will ѕрееd. In 2020 mоrе people will bе bаnking оn thеir mobile phones thаn hаvе еvеr banked bеfоrе, аnd thаt\\'ѕ juѕt fivе уеаrѕ аwау. Technologies such as artificial intelligence, robotics and blockchain making it more convenient for customers to take care of their day to day banking business. The time for big banks to meet consumers\\' needs is now - otherwise the banking business as we know it will be gone.',\n",
              " 'Japanese conversation using Ninja LINE sticker �� You can download the Ninja LINE stickers . �� Download LINE stickers (HiraganaNinja 3) たべすぎた。tabesugita = taberu (to eat) + sugiru (to do too much) + shita ( the past form) わかった wakatta = The past form of \"wakaru (to understand)\". Wakarimashita. Kashikomarimashita. おどらない？odoranai = Shall we dance? Odoru = to dance / 〜 しない？ = Shall we ~ ? あいしてる aishiteru = I love you. 愛 ai is noun which means love. 愛している aishiteiru is the verb form. だいすき daisuki すき suki きらい kirai やばい！ is casual Japanese or Japanese slang and it is used like \"Oh my god!\". Yabai casual Japanese / Japanese slang phrase 食事中 shokuji chuu = (I\\'m) eating 充電中 juudenchuu → 充電完了 juudenkanryou New Kindle Book On Sale! Japanese conversation Chart Ninja LINE stickers',\n",
              " \"Arugorizumu Koushin! アルゴリズムこうしん (Algorithm March!) Hitori de koushin ひとりでこうしん (Individual March) Ippo susunde mae narae いっぽすすんでまえならえ (Take one step and reach forward) Ippo susunde eraihito いっぽすすんでえらいひと (Take one step forward and you're a great person) Hikkuri kaete pekorinko ひっくりかえてぺこりんこ (Turn around and bow to the person) Yoko ni aruite kyorokyoro よこにあるいてきょろきょろ (Walk sideways and look around) Chotto kokorade hiraoyogi ちょっとここらでひらおよぎ (Wait here and do the breaststroke) Chotto shagande kurihiroi ちょっとしゃがんでくりひろい (Crouch here a moment and pick up a chestnut) Kuuki iremasu shuu shuu くうきいれますシュウシュウ (Put air in it whoosh, whoosh) Kuuki ga haite pyuu pyuu くうきがはいてピュウピュウ (There's air inside pyuu, pyuu) Ippo susunde mae narae いっぽすすんでまえならえ (Take one step and reach forward) Ippo susunde eraihito いっぽすすんでえらいひと (Take one step forward and you're a great person) Hikkuri kaete pekorinko ひっくりかえてぺこりんこ (Turn around and bow to the person) Yoko ni aruite kyorokyoro よこにあるいてきょろきょろ (Walk sideways and look around) Chotto kokorade hiraoyogi ちょっとここらでひらおよぎ (Wait here and do the breaststroke) Chotto shagande kurihiroi ちょっとしゃがんでくりひろい (Crouch here a moment and pick up a chestnut) Kuuki iremasu shuu shuu くうきいれますシュウシュウ (Put air in it whoosh, whoosh) Kuuki ga haite pyuu pyuu くうきがはいてピュウピュウ (There's air inside pyuu, pyuu) Sorosoro owari kana そろそろおわりかな (I wonder if it will end soon?) Sorosoro owari kana そろそろおわりかな (I wonder if it will end soon?) Sorosoro owari kana そろそろおわりかな (I wonder if it will end soon?) Owari おわり (Finished) This is what the Algorithm Taiso looks like: Algorithm Taiso - Tokyo Bus Guides 投稿者 saigo_takamori Kocchi muite futari de maenarae こっちむいてふたりでまえならえ (Turn this way and reach forward with both hands) Aichi muite futari de maenarae あいちむいてふたりでまえならえ (Turn that way and reach forward with both hands) Kocchi muite futari de maenarae こっちむいてふたりでまえならえ (Turn this way and reach forward with both hands) Aichi muite futari de maenarae あいちむいてふたりでまえならえ (Turn that way and reach forward with both hands) Te wo yoko ni ara abunai てをよこにあらあぶない (Put your hands to the side...oh, that's dangerous) Atama wo sagereba butsukarimasen あたまをさげればぶつかりません (If you lower your head you won't get hit) Te wo yoko ni ara abunai てをよこにあらあぶない (Put your hands to the side...oh, that's dangerous) Atama wo sagereba daijobu あたまをさげればだいじょうぶ (Lower your head and you'll be okay) Guruguruguru guruguruguru ぐるぐるぐる\\u3000ぐるぐるぐる (Round and round, round and round) Guru guru ぐるぐる (Round and round) Guruguruguru guruguruguru ぐるぐるぐる\\u3000ぐるぐるぐる (Round and round, round and round) Guru guru ぐるぐる (Round and round) Pacchin pacchin gasshin gasshin ぱっちんぱっちん\\u3000ガシンガッシン (slap, slap, bash, bash) Pacchin pacchin gasshin gasshin ぱっちんぱっちん\\u3000ガシンガッシン (slap, slap, bash, bash) Pacchin pacchin gasshin gasshin ぱっちんぱっちん\\u3000ガシンガッシン (slap, slap, bash, bash) Pacchin pacchin gasshin gasshin ぱっちんぱっちん\\u3000ガシンガッシン (slap, slap, bash, bash) Sutte haku no ga shinkokyuu すってはくのがしんこきゅう (Take a deep breath) Sutte haku no ga shinkokyuu すってはくのがしんこきゅう (Take a deep breath) I definitely like the Algorithm March better than the Algorithm Taiso. Not only because of the ninjas but because it's so much fun to do with a group of your friends. Which one do you like better? They're both heaps of fun, though. Why not give them both a try? Warning: THE ALGORITHM MARCH & ALGORITHM TAISO CAN BE VERY ADDICTIVE!! HAVE FUN!! Donald Ash The following two tabs change content below.\",\n",
              " 'Lorem ipsum dolor sit amet, consectetur adipisicing elit. Sint, ducimus, qui fuga corporis veritatis doloribus iure nulla optio dolores maiores dolorum ullam alias cum libero obcaecati cupiditate sit illo aperiam possimus voluptatum similique neque explicabo quibusdam aspernatur dolorem. Quod, corrupti magni explicabo nam sequi nesciunt accusamus aliquam dolore!',\n",
              " 'Lorem ipsum dolor sit amet, consectetur adipisicing elit. Sint, ducimus, qui fuga corporis veritatis doloribus iure nulla optio dolores maiores dolorum ullam alias cum libero obcaecati cupiditate sit illo aperiam possimus voluptatum similique neque explicabo quibusdam aspernatur dolorem. Quod, corrupti magni explicabo nam sequi nesciunt accusamus aliquam dolore!']"
            ]
          },
          "metadata": {},
          "execution_count": 10
        }
      ]
    },
    {
      "cell_type": "markdown",
      "source": [
        "Because of la, es, and ja language is rare overall of the all language, then it will be dropped"
      ],
      "metadata": {
        "id": "Tb9EfZ6mqoib"
      }
    },
    {
      "cell_type": "code",
      "source": [
        "shared_article = shared_article[shared_articles.lang.isin(['en', 'pt'])]\n",
        "shared_article.head(3)"
      ],
      "metadata": {
        "colab": {
          "base_uri": "https://localhost:8080/",
          "height": 643
        },
        "id": "5n-G5KW4q3v5",
        "outputId": "f82c8bea-db66-4adc-ccef-adbfceec9bc3"
      },
      "execution_count": 11,
      "outputs": [
        {
          "output_type": "stream",
          "name": "stderr",
          "text": [
            "<ipython-input-11-6c3321bbe87a>:1: UserWarning: Boolean Series key will be reindexed to match DataFrame index.\n",
            "  shared_article = shared_article[shared_articles.lang.isin(['en', 'pt'])]\n"
          ]
        },
        {
          "output_type": "execute_result",
          "data": {
            "text/plain": [
              "    timestamp       eventType            contentId       authorPersonId  \\\n",
              "1  1459193988  CONTENT SHARED -4110354420726924665  4340306774493623681   \n",
              "2  1459194146  CONTENT SHARED -7292285110016212249  4340306774493623681   \n",
              "3  1459194474  CONTENT SHARED -6151852268067518688  3891637997717104548   \n",
              "\n",
              "       authorSessionId authorUserAgent authorRegion authorCountry contentType  \\\n",
              "1  8940341205206233829             NaN          NaN           NaN        HTML   \n",
              "2  8940341205206233829             NaN          NaN           NaN        HTML   \n",
              "3 -1457532940883382585             NaN          NaN           NaN        HTML   \n",
              "\n",
              "                                                 url  \\\n",
              "1  http://www.nytimes.com/2016/03/28/business/dea...   \n",
              "2  http://cointelegraph.com/news/bitcoin-future-w...   \n",
              "3  https://cloudplatform.googleblog.com/2016/03/G...   \n",
              "\n",
              "                                               title  \\\n",
              "1  Ethereum, a Virtual Currency, Enables Transact...   \n",
              "2  Bitcoin Future: When GBPcoin of Branson Wins O...   \n",
              "3                       Google Data Center 360° Tour   \n",
              "\n",
              "                                                text lang  \n",
              "1  All of this work is still very early. The firs...   en  \n",
              "2  The alarm clock wakes me at 8:00 with stream o...   en  \n",
              "3  We're excited to share the Google Data Center ...   en  "
            ],
            "text/html": [
              "\n",
              "  <div id=\"df-ff6de935-8b67-4862-83da-476d27920be2\">\n",
              "    <div class=\"colab-df-container\">\n",
              "      <div>\n",
              "<style scoped>\n",
              "    .dataframe tbody tr th:only-of-type {\n",
              "        vertical-align: middle;\n",
              "    }\n",
              "\n",
              "    .dataframe tbody tr th {\n",
              "        vertical-align: top;\n",
              "    }\n",
              "\n",
              "    .dataframe thead th {\n",
              "        text-align: right;\n",
              "    }\n",
              "</style>\n",
              "<table border=\"1\" class=\"dataframe\">\n",
              "  <thead>\n",
              "    <tr style=\"text-align: right;\">\n",
              "      <th></th>\n",
              "      <th>timestamp</th>\n",
              "      <th>eventType</th>\n",
              "      <th>contentId</th>\n",
              "      <th>authorPersonId</th>\n",
              "      <th>authorSessionId</th>\n",
              "      <th>authorUserAgent</th>\n",
              "      <th>authorRegion</th>\n",
              "      <th>authorCountry</th>\n",
              "      <th>contentType</th>\n",
              "      <th>url</th>\n",
              "      <th>title</th>\n",
              "      <th>text</th>\n",
              "      <th>lang</th>\n",
              "    </tr>\n",
              "  </thead>\n",
              "  <tbody>\n",
              "    <tr>\n",
              "      <th>1</th>\n",
              "      <td>1459193988</td>\n",
              "      <td>CONTENT SHARED</td>\n",
              "      <td>-4110354420726924665</td>\n",
              "      <td>4340306774493623681</td>\n",
              "      <td>8940341205206233829</td>\n",
              "      <td>NaN</td>\n",
              "      <td>NaN</td>\n",
              "      <td>NaN</td>\n",
              "      <td>HTML</td>\n",
              "      <td>http://www.nytimes.com/2016/03/28/business/dea...</td>\n",
              "      <td>Ethereum, a Virtual Currency, Enables Transact...</td>\n",
              "      <td>All of this work is still very early. The firs...</td>\n",
              "      <td>en</td>\n",
              "    </tr>\n",
              "    <tr>\n",
              "      <th>2</th>\n",
              "      <td>1459194146</td>\n",
              "      <td>CONTENT SHARED</td>\n",
              "      <td>-7292285110016212249</td>\n",
              "      <td>4340306774493623681</td>\n",
              "      <td>8940341205206233829</td>\n",
              "      <td>NaN</td>\n",
              "      <td>NaN</td>\n",
              "      <td>NaN</td>\n",
              "      <td>HTML</td>\n",
              "      <td>http://cointelegraph.com/news/bitcoin-future-w...</td>\n",
              "      <td>Bitcoin Future: When GBPcoin of Branson Wins O...</td>\n",
              "      <td>The alarm clock wakes me at 8:00 with stream o...</td>\n",
              "      <td>en</td>\n",
              "    </tr>\n",
              "    <tr>\n",
              "      <th>3</th>\n",
              "      <td>1459194474</td>\n",
              "      <td>CONTENT SHARED</td>\n",
              "      <td>-6151852268067518688</td>\n",
              "      <td>3891637997717104548</td>\n",
              "      <td>-1457532940883382585</td>\n",
              "      <td>NaN</td>\n",
              "      <td>NaN</td>\n",
              "      <td>NaN</td>\n",
              "      <td>HTML</td>\n",
              "      <td>https://cloudplatform.googleblog.com/2016/03/G...</td>\n",
              "      <td>Google Data Center 360° Tour</td>\n",
              "      <td>We're excited to share the Google Data Center ...</td>\n",
              "      <td>en</td>\n",
              "    </tr>\n",
              "  </tbody>\n",
              "</table>\n",
              "</div>\n",
              "      <button class=\"colab-df-convert\" onclick=\"convertToInteractive('df-ff6de935-8b67-4862-83da-476d27920be2')\"\n",
              "              title=\"Convert this dataframe to an interactive table.\"\n",
              "              style=\"display:none;\">\n",
              "        \n",
              "  <svg xmlns=\"http://www.w3.org/2000/svg\" height=\"24px\"viewBox=\"0 0 24 24\"\n",
              "       width=\"24px\">\n",
              "    <path d=\"M0 0h24v24H0V0z\" fill=\"none\"/>\n",
              "    <path d=\"M18.56 5.44l.94 2.06.94-2.06 2.06-.94-2.06-.94-.94-2.06-.94 2.06-2.06.94zm-11 1L8.5 8.5l.94-2.06 2.06-.94-2.06-.94L8.5 2.5l-.94 2.06-2.06.94zm10 10l.94 2.06.94-2.06 2.06-.94-2.06-.94-.94-2.06-.94 2.06-2.06.94z\"/><path d=\"M17.41 7.96l-1.37-1.37c-.4-.4-.92-.59-1.43-.59-.52 0-1.04.2-1.43.59L10.3 9.45l-7.72 7.72c-.78.78-.78 2.05 0 2.83L4 21.41c.39.39.9.59 1.41.59.51 0 1.02-.2 1.41-.59l7.78-7.78 2.81-2.81c.8-.78.8-2.07 0-2.86zM5.41 20L4 18.59l7.72-7.72 1.47 1.35L5.41 20z\"/>\n",
              "  </svg>\n",
              "      </button>\n",
              "      \n",
              "  <style>\n",
              "    .colab-df-container {\n",
              "      display:flex;\n",
              "      flex-wrap:wrap;\n",
              "      gap: 12px;\n",
              "    }\n",
              "\n",
              "    .colab-df-convert {\n",
              "      background-color: #E8F0FE;\n",
              "      border: none;\n",
              "      border-radius: 50%;\n",
              "      cursor: pointer;\n",
              "      display: none;\n",
              "      fill: #1967D2;\n",
              "      height: 32px;\n",
              "      padding: 0 0 0 0;\n",
              "      width: 32px;\n",
              "    }\n",
              "\n",
              "    .colab-df-convert:hover {\n",
              "      background-color: #E2EBFA;\n",
              "      box-shadow: 0px 1px 2px rgba(60, 64, 67, 0.3), 0px 1px 3px 1px rgba(60, 64, 67, 0.15);\n",
              "      fill: #174EA6;\n",
              "    }\n",
              "\n",
              "    [theme=dark] .colab-df-convert {\n",
              "      background-color: #3B4455;\n",
              "      fill: #D2E3FC;\n",
              "    }\n",
              "\n",
              "    [theme=dark] .colab-df-convert:hover {\n",
              "      background-color: #434B5C;\n",
              "      box-shadow: 0px 1px 3px 1px rgba(0, 0, 0, 0.15);\n",
              "      filter: drop-shadow(0px 1px 2px rgba(0, 0, 0, 0.3));\n",
              "      fill: #FFFFFF;\n",
              "    }\n",
              "  </style>\n",
              "\n",
              "      <script>\n",
              "        const buttonEl =\n",
              "          document.querySelector('#df-ff6de935-8b67-4862-83da-476d27920be2 button.colab-df-convert');\n",
              "        buttonEl.style.display =\n",
              "          google.colab.kernel.accessAllowed ? 'block' : 'none';\n",
              "\n",
              "        async function convertToInteractive(key) {\n",
              "          const element = document.querySelector('#df-ff6de935-8b67-4862-83da-476d27920be2');\n",
              "          const dataTable =\n",
              "            await google.colab.kernel.invokeFunction('convertToInteractive',\n",
              "                                                     [key], {});\n",
              "          if (!dataTable) return;\n",
              "\n",
              "          const docLinkHtml = 'Like what you see? Visit the ' +\n",
              "            '<a target=\"_blank\" href=https://colab.research.google.com/notebooks/data_table.ipynb>data table notebook</a>'\n",
              "            + ' to learn more about interactive tables.';\n",
              "          element.innerHTML = '';\n",
              "          dataTable['output_type'] = 'display_data';\n",
              "          await google.colab.output.renderOutput(dataTable, element);\n",
              "          const docLink = document.createElement('div');\n",
              "          docLink.innerHTML = docLinkHtml;\n",
              "          element.appendChild(docLink);\n",
              "        }\n",
              "      </script>\n",
              "    </div>\n",
              "  </div>\n",
              "  "
            ]
          },
          "metadata": {},
          "execution_count": 11
        }
      ]
    },
    {
      "cell_type": "markdown",
      "source": [
        "Exploratory Data for Users Interaction"
      ],
      "metadata": {
        "id": "uwGW4tyEklNj"
      }
    },
    {
      "cell_type": "code",
      "source": [
        "users_interactions.head(5)"
      ],
      "metadata": {
        "colab": {
          "base_uri": "https://localhost:8080/",
          "height": 206
        },
        "id": "uOH96WbqDXb5",
        "outputId": "946e1368-1d83-4819-a078-45e941d76721"
      },
      "execution_count": 12,
      "outputs": [
        {
          "output_type": "execute_result",
          "data": {
            "text/plain": [
              "    timestamp eventType            contentId             personId  \\\n",
              "0  1465413032      VIEW -3499919498720038879 -8845298781299428018   \n",
              "1  1465412560      VIEW  8890720798209849691 -1032019229384696495   \n",
              "2  1465416190      VIEW   310515487419366995 -1130272294246983140   \n",
              "3  1465413895    FOLLOW   310515487419366995   344280948527967603   \n",
              "4  1465412290      VIEW -7820640624231356730  -445337111692715325   \n",
              "\n",
              "             sessionId                                          userAgent  \\\n",
              "0  1264196770339959068                                                NaN   \n",
              "1  3621737643587579081  Mozilla/5.0 (Macintosh; Intel Mac OS X 10_11_2...   \n",
              "2  2631864456530402479                                                NaN   \n",
              "3 -3167637573980064150                                                NaN   \n",
              "4  5611481178424124714                                                NaN   \n",
              "\n",
              "  userRegion userCountry  \n",
              "0        NaN         NaN  \n",
              "1         NY          US  \n",
              "2        NaN         NaN  \n",
              "3        NaN         NaN  \n",
              "4        NaN         NaN  "
            ],
            "text/html": [
              "\n",
              "  <div id=\"df-3ca8101c-8398-4a3c-bf95-797e381c62f2\">\n",
              "    <div class=\"colab-df-container\">\n",
              "      <div>\n",
              "<style scoped>\n",
              "    .dataframe tbody tr th:only-of-type {\n",
              "        vertical-align: middle;\n",
              "    }\n",
              "\n",
              "    .dataframe tbody tr th {\n",
              "        vertical-align: top;\n",
              "    }\n",
              "\n",
              "    .dataframe thead th {\n",
              "        text-align: right;\n",
              "    }\n",
              "</style>\n",
              "<table border=\"1\" class=\"dataframe\">\n",
              "  <thead>\n",
              "    <tr style=\"text-align: right;\">\n",
              "      <th></th>\n",
              "      <th>timestamp</th>\n",
              "      <th>eventType</th>\n",
              "      <th>contentId</th>\n",
              "      <th>personId</th>\n",
              "      <th>sessionId</th>\n",
              "      <th>userAgent</th>\n",
              "      <th>userRegion</th>\n",
              "      <th>userCountry</th>\n",
              "    </tr>\n",
              "  </thead>\n",
              "  <tbody>\n",
              "    <tr>\n",
              "      <th>0</th>\n",
              "      <td>1465413032</td>\n",
              "      <td>VIEW</td>\n",
              "      <td>-3499919498720038879</td>\n",
              "      <td>-8845298781299428018</td>\n",
              "      <td>1264196770339959068</td>\n",
              "      <td>NaN</td>\n",
              "      <td>NaN</td>\n",
              "      <td>NaN</td>\n",
              "    </tr>\n",
              "    <tr>\n",
              "      <th>1</th>\n",
              "      <td>1465412560</td>\n",
              "      <td>VIEW</td>\n",
              "      <td>8890720798209849691</td>\n",
              "      <td>-1032019229384696495</td>\n",
              "      <td>3621737643587579081</td>\n",
              "      <td>Mozilla/5.0 (Macintosh; Intel Mac OS X 10_11_2...</td>\n",
              "      <td>NY</td>\n",
              "      <td>US</td>\n",
              "    </tr>\n",
              "    <tr>\n",
              "      <th>2</th>\n",
              "      <td>1465416190</td>\n",
              "      <td>VIEW</td>\n",
              "      <td>310515487419366995</td>\n",
              "      <td>-1130272294246983140</td>\n",
              "      <td>2631864456530402479</td>\n",
              "      <td>NaN</td>\n",
              "      <td>NaN</td>\n",
              "      <td>NaN</td>\n",
              "    </tr>\n",
              "    <tr>\n",
              "      <th>3</th>\n",
              "      <td>1465413895</td>\n",
              "      <td>FOLLOW</td>\n",
              "      <td>310515487419366995</td>\n",
              "      <td>344280948527967603</td>\n",
              "      <td>-3167637573980064150</td>\n",
              "      <td>NaN</td>\n",
              "      <td>NaN</td>\n",
              "      <td>NaN</td>\n",
              "    </tr>\n",
              "    <tr>\n",
              "      <th>4</th>\n",
              "      <td>1465412290</td>\n",
              "      <td>VIEW</td>\n",
              "      <td>-7820640624231356730</td>\n",
              "      <td>-445337111692715325</td>\n",
              "      <td>5611481178424124714</td>\n",
              "      <td>NaN</td>\n",
              "      <td>NaN</td>\n",
              "      <td>NaN</td>\n",
              "    </tr>\n",
              "  </tbody>\n",
              "</table>\n",
              "</div>\n",
              "      <button class=\"colab-df-convert\" onclick=\"convertToInteractive('df-3ca8101c-8398-4a3c-bf95-797e381c62f2')\"\n",
              "              title=\"Convert this dataframe to an interactive table.\"\n",
              "              style=\"display:none;\">\n",
              "        \n",
              "  <svg xmlns=\"http://www.w3.org/2000/svg\" height=\"24px\"viewBox=\"0 0 24 24\"\n",
              "       width=\"24px\">\n",
              "    <path d=\"M0 0h24v24H0V0z\" fill=\"none\"/>\n",
              "    <path d=\"M18.56 5.44l.94 2.06.94-2.06 2.06-.94-2.06-.94-.94-2.06-.94 2.06-2.06.94zm-11 1L8.5 8.5l.94-2.06 2.06-.94-2.06-.94L8.5 2.5l-.94 2.06-2.06.94zm10 10l.94 2.06.94-2.06 2.06-.94-2.06-.94-.94-2.06-.94 2.06-2.06.94z\"/><path d=\"M17.41 7.96l-1.37-1.37c-.4-.4-.92-.59-1.43-.59-.52 0-1.04.2-1.43.59L10.3 9.45l-7.72 7.72c-.78.78-.78 2.05 0 2.83L4 21.41c.39.39.9.59 1.41.59.51 0 1.02-.2 1.41-.59l7.78-7.78 2.81-2.81c.8-.78.8-2.07 0-2.86zM5.41 20L4 18.59l7.72-7.72 1.47 1.35L5.41 20z\"/>\n",
              "  </svg>\n",
              "      </button>\n",
              "      \n",
              "  <style>\n",
              "    .colab-df-container {\n",
              "      display:flex;\n",
              "      flex-wrap:wrap;\n",
              "      gap: 12px;\n",
              "    }\n",
              "\n",
              "    .colab-df-convert {\n",
              "      background-color: #E8F0FE;\n",
              "      border: none;\n",
              "      border-radius: 50%;\n",
              "      cursor: pointer;\n",
              "      display: none;\n",
              "      fill: #1967D2;\n",
              "      height: 32px;\n",
              "      padding: 0 0 0 0;\n",
              "      width: 32px;\n",
              "    }\n",
              "\n",
              "    .colab-df-convert:hover {\n",
              "      background-color: #E2EBFA;\n",
              "      box-shadow: 0px 1px 2px rgba(60, 64, 67, 0.3), 0px 1px 3px 1px rgba(60, 64, 67, 0.15);\n",
              "      fill: #174EA6;\n",
              "    }\n",
              "\n",
              "    [theme=dark] .colab-df-convert {\n",
              "      background-color: #3B4455;\n",
              "      fill: #D2E3FC;\n",
              "    }\n",
              "\n",
              "    [theme=dark] .colab-df-convert:hover {\n",
              "      background-color: #434B5C;\n",
              "      box-shadow: 0px 1px 3px 1px rgba(0, 0, 0, 0.15);\n",
              "      filter: drop-shadow(0px 1px 2px rgba(0, 0, 0, 0.3));\n",
              "      fill: #FFFFFF;\n",
              "    }\n",
              "  </style>\n",
              "\n",
              "      <script>\n",
              "        const buttonEl =\n",
              "          document.querySelector('#df-3ca8101c-8398-4a3c-bf95-797e381c62f2 button.colab-df-convert');\n",
              "        buttonEl.style.display =\n",
              "          google.colab.kernel.accessAllowed ? 'block' : 'none';\n",
              "\n",
              "        async function convertToInteractive(key) {\n",
              "          const element = document.querySelector('#df-3ca8101c-8398-4a3c-bf95-797e381c62f2');\n",
              "          const dataTable =\n",
              "            await google.colab.kernel.invokeFunction('convertToInteractive',\n",
              "                                                     [key], {});\n",
              "          if (!dataTable) return;\n",
              "\n",
              "          const docLinkHtml = 'Like what you see? Visit the ' +\n",
              "            '<a target=\"_blank\" href=https://colab.research.google.com/notebooks/data_table.ipynb>data table notebook</a>'\n",
              "            + ' to learn more about interactive tables.';\n",
              "          element.innerHTML = '';\n",
              "          dataTable['output_type'] = 'display_data';\n",
              "          await google.colab.output.renderOutput(dataTable, element);\n",
              "          const docLink = document.createElement('div');\n",
              "          docLink.innerHTML = docLinkHtml;\n",
              "          element.appendChild(docLink);\n",
              "        }\n",
              "      </script>\n",
              "    </div>\n",
              "  </div>\n",
              "  "
            ]
          },
          "metadata": {},
          "execution_count": 12
        }
      ]
    },
    {
      "cell_type": "code",
      "source": [
        "users_interactions.info()"
      ],
      "metadata": {
        "colab": {
          "base_uri": "https://localhost:8080/"
        },
        "id": "Mgs5MI28DkFV",
        "outputId": "0b995497-69c9-435a-ea77-116ba7b522c1"
      },
      "execution_count": 13,
      "outputs": [
        {
          "output_type": "stream",
          "name": "stdout",
          "text": [
            "<class 'pandas.core.frame.DataFrame'>\n",
            "RangeIndex: 72312 entries, 0 to 72311\n",
            "Data columns (total 8 columns):\n",
            " #   Column       Non-Null Count  Dtype \n",
            "---  ------       --------------  ----- \n",
            " 0   timestamp    72312 non-null  int64 \n",
            " 1   eventType    72312 non-null  object\n",
            " 2   contentId    72312 non-null  int64 \n",
            " 3   personId     72312 non-null  int64 \n",
            " 4   sessionId    72312 non-null  int64 \n",
            " 5   userAgent    56918 non-null  object\n",
            " 6   userRegion   56907 non-null  object\n",
            " 7   userCountry  56918 non-null  object\n",
            "dtypes: int64(4), object(4)\n",
            "memory usage: 4.4+ MB\n"
          ]
        }
      ]
    },
    {
      "cell_type": "code",
      "source": [
        "sns.countplot(users_interactions['eventType'])"
      ],
      "metadata": {
        "colab": {
          "base_uri": "https://localhost:8080/",
          "height": 354
        },
        "id": "opwv5QMSDxmf",
        "outputId": "fcb554d6-b10f-484c-94dd-aba7e05733c3"
      },
      "execution_count": 14,
      "outputs": [
        {
          "output_type": "stream",
          "name": "stderr",
          "text": [
            "/usr/local/lib/python3.8/dist-packages/seaborn/_decorators.py:36: FutureWarning: Pass the following variable as a keyword arg: x. From version 0.12, the only valid positional argument will be `data`, and passing other arguments without an explicit keyword will result in an error or misinterpretation.\n",
            "  warnings.warn(\n"
          ]
        },
        {
          "output_type": "execute_result",
          "data": {
            "text/plain": [
              "<matplotlib.axes._subplots.AxesSubplot at 0x7f0fc61ba6a0>"
            ]
          },
          "metadata": {},
          "execution_count": 14
        },
        {
          "output_type": "display_data",
          "data": {
            "text/plain": [
              "<Figure size 432x288 with 1 Axes>"
            ],
            "image/png": "[encoded data removed]"
          },
          "metadata": {
            "needs_background": "light"
          }
        }
      ]
    },
    {
      "cell_type": "markdown",
      "source": [
        "Because of the differences interaction types of users, then we will ordering it according to the most high interaction type with the most high value, in this case 'comment created' is the most high interaction"
      ],
      "metadata": {
        "id": "oYlQFa3XsLyL"
      }
    },
    {
      "cell_type": "code",
      "source": [
        "event_typeStrength = {'VIEW':1.0,\n",
        "                  'LIKE':2.0,\n",
        "                  'BOOKMARK':3.0,\n",
        "                  'FOLLOW':4.0,\n",
        "                  'COMMENT CREATED':5.0}\n",
        "users_interactions['eventStrength'] = users_interactions['eventType'].apply(lambda x: event_typeStrength[x])\n",
        "users_interactions.head(3)"
      ],
      "metadata": {
        "id": "pf2_0DBQs6d_",
        "colab": {
          "base_uri": "https://localhost:8080/",
          "height": 143
        },
        "outputId": "9a86b2bd-4181-45cf-d6b3-301729bc7e01"
      },
      "execution_count": 15,
      "outputs": [
        {
          "output_type": "execute_result",
          "data": {
            "text/plain": [
              "    timestamp eventType            contentId             personId  \\\n",
              "0  1465413032      VIEW -3499919498720038879 -8845298781299428018   \n",
              "1  1465412560      VIEW  8890720798209849691 -1032019229384696495   \n",
              "2  1465416190      VIEW   310515487419366995 -1130272294246983140   \n",
              "\n",
              "             sessionId                                          userAgent  \\\n",
              "0  1264196770339959068                                                NaN   \n",
              "1  3621737643587579081  Mozilla/5.0 (Macintosh; Intel Mac OS X 10_11_2...   \n",
              "2  2631864456530402479                                                NaN   \n",
              "\n",
              "  userRegion userCountry  eventStrength  \n",
              "0        NaN         NaN            1.0  \n",
              "1         NY          US            1.0  \n",
              "2        NaN         NaN            1.0  "
            ],
            "text/html": [
              "\n",
              "  <div id=\"df-53535627-b346-43f4-9b10-bfbf8142996b\">\n",
              "    <div class=\"colab-df-container\">\n",
              "      <div>\n",
              "<style scoped>\n",
              "    .dataframe tbody tr th:only-of-type {\n",
              "        vertical-align: middle;\n",
              "    }\n",
              "\n",
              "    .dataframe tbody tr th {\n",
              "        vertical-align: top;\n",
              "    }\n",
              "\n",
              "    .dataframe thead th {\n",
              "        text-align: right;\n",
              "    }\n",
              "</style>\n",
              "<table border=\"1\" class=\"dataframe\">\n",
              "  <thead>\n",
              "    <tr style=\"text-align: right;\">\n",
              "      <th></th>\n",
              "      <th>timestamp</th>\n",
              "      <th>eventType</th>\n",
              "      <th>contentId</th>\n",
              "      <th>personId</th>\n",
              "      <th>sessionId</th>\n",
              "      <th>userAgent</th>\n",
              "      <th>userRegion</th>\n",
              "      <th>userCountry</th>\n",
              "      <th>eventStrength</th>\n",
              "    </tr>\n",
              "  </thead>\n",
              "  <tbody>\n",
              "    <tr>\n",
              "      <th>0</th>\n",
              "      <td>1465413032</td>\n",
              "      <td>VIEW</td>\n",
              "      <td>-3499919498720038879</td>\n",
              "      <td>-8845298781299428018</td>\n",
              "      <td>1264196770339959068</td>\n",
              "      <td>NaN</td>\n",
              "      <td>NaN</td>\n",
              "      <td>NaN</td>\n",
              "      <td>1.0</td>\n",
              "    </tr>\n",
              "    <tr>\n",
              "      <th>1</th>\n",
              "      <td>1465412560</td>\n",
              "      <td>VIEW</td>\n",
              "      <td>8890720798209849691</td>\n",
              "      <td>-1032019229384696495</td>\n",
              "      <td>3621737643587579081</td>\n",
              "      <td>Mozilla/5.0 (Macintosh; Intel Mac OS X 10_11_2...</td>\n",
              "      <td>NY</td>\n",
              "      <td>US</td>\n",
              "      <td>1.0</td>\n",
              "    </tr>\n",
              "    <tr>\n",
              "      <th>2</th>\n",
              "      <td>1465416190</td>\n",
              "      <td>VIEW</td>\n",
              "      <td>310515487419366995</td>\n",
              "      <td>-1130272294246983140</td>\n",
              "      <td>2631864456530402479</td>\n",
              "      <td>NaN</td>\n",
              "      <td>NaN</td>\n",
              "      <td>NaN</td>\n",
              "      <td>1.0</td>\n",
              "    </tr>\n",
              "  </tbody>\n",
              "</table>\n",
              "</div>\n",
              "      <button class=\"colab-df-convert\" onclick=\"convertToInteractive('df-53535627-b346-43f4-9b10-bfbf8142996b')\"\n",
              "              title=\"Convert this dataframe to an interactive table.\"\n",
              "              style=\"display:none;\">\n",
              "        \n",
              "  <svg xmlns=\"http://www.w3.org/2000/svg\" height=\"24px\"viewBox=\"0 0 24 24\"\n",
              "       width=\"24px\">\n",
              "    <path d=\"M0 0h24v24H0V0z\" fill=\"none\"/>\n",
              "    <path d=\"M18.56 5.44l.94 2.06.94-2.06 2.06-.94-2.06-.94-.94-2.06-.94 2.06-2.06.94zm-11 1L8.5 8.5l.94-2.06 2.06-.94-2.06-.94L8.5 2.5l-.94 2.06-2.06.94zm10 10l.94 2.06.94-2.06 2.06-.94-2.06-.94-.94-2.06-.94 2.06-2.06.94z\"/><path d=\"M17.41 7.96l-1.37-1.37c-.4-.4-.92-.59-1.43-.59-.52 0-1.04.2-1.43.59L10.3 9.45l-7.72 7.72c-.78.78-.78 2.05 0 2.83L4 21.41c.39.39.9.59 1.41.59.51 0 1.02-.2 1.41-.59l7.78-7.78 2.81-2.81c.8-.78.8-2.07 0-2.86zM5.41 20L4 18.59l7.72-7.72 1.47 1.35L5.41 20z\"/>\n",
              "  </svg>\n",
              "      </button>\n",
              "      \n",
              "  <style>\n",
              "    .colab-df-container {\n",
              "      display:flex;\n",
              "      flex-wrap:wrap;\n",
              "      gap: 12px;\n",
              "    }\n",
              "\n",
              "    .colab-df-convert {\n",
              "      background-color: #E8F0FE;\n",
              "      border: none;\n",
              "      border-radius: 50%;\n",
              "      cursor: pointer;\n",
              "      display: none;\n",
              "      fill: #1967D2;\n",
              "      height: 32px;\n",
              "      padding: 0 0 0 0;\n",
              "      width: 32px;\n",
              "    }\n",
              "\n",
              "    .colab-df-convert:hover {\n",
              "      background-color: #E2EBFA;\n",
              "      box-shadow: 0px 1px 2px rgba(60, 64, 67, 0.3), 0px 1px 3px 1px rgba(60, 64, 67, 0.15);\n",
              "      fill: #174EA6;\n",
              "    }\n",
              "\n",
              "    [theme=dark] .colab-df-convert {\n",
              "      background-color: #3B4455;\n",
              "      fill: #D2E3FC;\n",
              "    }\n",
              "\n",
              "    [theme=dark] .colab-df-convert:hover {\n",
              "      background-color: #434B5C;\n",
              "      box-shadow: 0px 1px 3px 1px rgba(0, 0, 0, 0.15);\n",
              "      filter: drop-shadow(0px 1px 2px rgba(0, 0, 0, 0.3));\n",
              "      fill: #FFFFFF;\n",
              "    }\n",
              "  </style>\n",
              "\n",
              "      <script>\n",
              "        const buttonEl =\n",
              "          document.querySelector('#df-53535627-b346-43f4-9b10-bfbf8142996b button.colab-df-convert');\n",
              "        buttonEl.style.display =\n",
              "          google.colab.kernel.accessAllowed ? 'block' : 'none';\n",
              "\n",
              "        async function convertToInteractive(key) {\n",
              "          const element = document.querySelector('#df-53535627-b346-43f4-9b10-bfbf8142996b');\n",
              "          const dataTable =\n",
              "            await google.colab.kernel.invokeFunction('convertToInteractive',\n",
              "                                                     [key], {});\n",
              "          if (!dataTable) return;\n",
              "\n",
              "          const docLinkHtml = 'Like what you see? Visit the ' +\n",
              "            '<a target=\"_blank\" href=https://colab.research.google.com/notebooks/data_table.ipynb>data table notebook</a>'\n",
              "            + ' to learn more about interactive tables.';\n",
              "          element.innerHTML = '';\n",
              "          dataTable['output_type'] = 'display_data';\n",
              "          await google.colab.output.renderOutput(dataTable, element);\n",
              "          const docLink = document.createElement('div');\n",
              "          docLink.innerHTML = docLinkHtml;\n",
              "          element.appendChild(docLink);\n",
              "        }\n",
              "      </script>\n",
              "    </div>\n",
              "  </div>\n",
              "  "
            ]
          },
          "metadata": {},
          "execution_count": 15
        }
      ]
    },
    {
      "cell_type": "code",
      "source": [
        "users_interactions.userRegion.value_counts()"
      ],
      "metadata": {
        "colab": {
          "base_uri": "https://localhost:8080/"
        },
        "id": "aN9kJ_sPk6Fy",
        "outputId": "0cb6475e-6823-437f-d257-1581548d4402"
      },
      "execution_count": 16,
      "outputs": [
        {
          "output_type": "execute_result",
          "data": {
            "text/plain": [
              "SP    40164\n",
              "MG    10229\n",
              "NY     1257\n",
              "TX      923\n",
              "GA      910\n",
              "      ...  \n",
              "R         1\n",
              "CE        1\n",
              "NH        1\n",
              "MN        1\n",
              "CL        1\n",
              "Name: userRegion, Length: 71, dtype: int64"
            ]
          },
          "metadata": {},
          "execution_count": 16
        }
      ]
    },
    {
      "cell_type": "code",
      "source": [
        "users_interactions.userCountry.value_counts()"
      ],
      "metadata": {
        "colab": {
          "base_uri": "https://localhost:8080/"
        },
        "id": "hz7gp4_HlR2a",
        "outputId": "460d070e-5af8-4428-8bb9-24614649d238"
      },
      "execution_count": 17,
      "outputs": [
        {
          "output_type": "execute_result",
          "data": {
            "text/plain": [
              "BR    51396\n",
              "US     4657\n",
              "KR      239\n",
              "CA      226\n",
              "JP      144\n",
              "AU      138\n",
              "GB       22\n",
              "DE       19\n",
              "IE       14\n",
              "IS       13\n",
              "ZZ       11\n",
              "SG       11\n",
              "AR        7\n",
              "PT        6\n",
              "ES        3\n",
              "IN        3\n",
              "MY        2\n",
              "IT        2\n",
              "CN        1\n",
              "NL        1\n",
              "CL        1\n",
              "CO        1\n",
              "CH        1\n",
              "Name: userCountry, dtype: int64"
            ]
          },
          "metadata": {},
          "execution_count": 17
        }
      ]
    },
    {
      "cell_type": "markdown",
      "source": [
        "Data Preprocessing"
      ],
      "metadata": {
        "id": "zS-8nM2BdO9S"
      }
    },
    {
      "cell_type": "markdown",
      "source": [
        "Because of the system will be hard to make recommendation (from the user preference) for users that only have a little of interaction with the article, then we will limit it with only users with > 3 will be proceed"
      ],
      "metadata": {
        "id": "FmHfthT067Iu"
      }
    },
    {
      "cell_type": "markdown",
      "source": [
        "users_interactionCount to count the length of the row in the data according to each personId with its contentId (count how much content that interact with user). \n",
        "\n",
        "users_interactionLimit to count user_interactionCount with only > 3 interaction "
      ],
      "metadata": {
        "id": "6YCLeOjusOgB"
      }
    },
    {
      "cell_type": "code",
      "source": [
        "users_interactionsCount = users_interactions.groupby(['personId', 'contentId']).size().groupby('personId').size()\n",
        "print('all users: ', len(users_interactionsCount))\n",
        "users_interactionsLimit = users_interactionsCount[users_interactionsCount > 3].reset_index()[['personId']]\n",
        "print('users with at least 4 interactions: ', len(users_interactionsLimit))"
      ],
      "metadata": {
        "colab": {
          "base_uri": "https://localhost:8080/"
        },
        "id": "LBKNTZ2Y63gd",
        "outputId": "d9b232d1-b9f8-4392-eaac-f31aba167cd4"
      },
      "execution_count": 18,
      "outputs": [
        {
          "output_type": "stream",
          "name": "stdout",
          "text": [
            "all users:  1895\n",
            "users with at least 4 interactions:  1249\n"
          ]
        }
      ]
    },
    {
      "cell_type": "code",
      "source": [
        "print('all interactions: ', len(users_interactions))\n",
        "interactions_usersSelected = users_interactions.merge(users_interactionsLimit,\n",
        "                                                      how = 'right',\n",
        "                                                      left_on = 'personId',\n",
        "                                                      right_on = 'personId')\n",
        "print('interactions with at least 4 interactions: ', len(interactions_usersSelected))"
      ],
      "metadata": {
        "id": "5DHu1XvpCQAy",
        "colab": {
          "base_uri": "https://localhost:8080/"
        },
        "outputId": "293324d0-5863-456c-9f16-1a43aa89fb43"
      },
      "execution_count": 19,
      "outputs": [
        {
          "output_type": "stream",
          "name": "stdout",
          "text": [
            "all interactions:  72312\n",
            "interactions with at least 4 interactions:  70549\n"
          ]
        }
      ]
    },
    {
      "cell_type": "code",
      "source": [
        "users_interactions.head()"
      ],
      "metadata": {
        "colab": {
          "base_uri": "https://localhost:8080/",
          "height": 206
        },
        "id": "cy-u98hS7y6S",
        "outputId": "db2bdb2b-a54a-4e70-c6d4-5ba0a42b057a"
      },
      "execution_count": 20,
      "outputs": [
        {
          "output_type": "execute_result",
          "data": {
            "text/plain": [
              "    timestamp eventType            contentId             personId  \\\n",
              "0  1465413032      VIEW -3499919498720038879 -8845298781299428018   \n",
              "1  1465412560      VIEW  8890720798209849691 -1032019229384696495   \n",
              "2  1465416190      VIEW   310515487419366995 -1130272294246983140   \n",
              "3  1465413895    FOLLOW   310515487419366995   344280948527967603   \n",
              "4  1465412290      VIEW -7820640624231356730  -445337111692715325   \n",
              "\n",
              "             sessionId                                          userAgent  \\\n",
              "0  1264196770339959068                                                NaN   \n",
              "1  3621737643587579081  Mozilla/5.0 (Macintosh; Intel Mac OS X 10_11_2...   \n",
              "2  2631864456530402479                                                NaN   \n",
              "3 -3167637573980064150                                                NaN   \n",
              "4  5611481178424124714                                                NaN   \n",
              "\n",
              "  userRegion userCountry  eventStrength  \n",
              "0        NaN         NaN            1.0  \n",
              "1         NY          US            1.0  \n",
              "2        NaN         NaN            1.0  \n",
              "3        NaN         NaN            4.0  \n",
              "4        NaN         NaN            1.0  "
            ],
            "text/html": [
              "\n",
              "  <div id=\"df-e476b96c-7a99-425e-99e5-0ca2b53f97a6\">\n",
              "    <div class=\"colab-df-container\">\n",
              "      <div>\n",
              "<style scoped>\n",
              "    .dataframe tbody tr th:only-of-type {\n",
              "        vertical-align: middle;\n",
              "    }\n",
              "\n",
              "    .dataframe tbody tr th {\n",
              "        vertical-align: top;\n",
              "    }\n",
              "\n",
              "    .dataframe thead th {\n",
              "        text-align: right;\n",
              "    }\n",
              "</style>\n",
              "<table border=\"1\" class=\"dataframe\">\n",
              "  <thead>\n",
              "    <tr style=\"text-align: right;\">\n",
              "      <th></th>\n",
              "      <th>timestamp</th>\n",
              "      <th>eventType</th>\n",
              "      <th>contentId</th>\n",
              "      <th>personId</th>\n",
              "      <th>sessionId</th>\n",
              "      <th>userAgent</th>\n",
              "      <th>userRegion</th>\n",
              "      <th>userCountry</th>\n",
              "      <th>eventStrength</th>\n",
              "    </tr>\n",
              "  </thead>\n",
              "  <tbody>\n",
              "    <tr>\n",
              "      <th>0</th>\n",
              "      <td>1465413032</td>\n",
              "      <td>VIEW</td>\n",
              "      <td>-3499919498720038879</td>\n",
              "      <td>-8845298781299428018</td>\n",
              "      <td>1264196770339959068</td>\n",
              "      <td>NaN</td>\n",
              "      <td>NaN</td>\n",
              "      <td>NaN</td>\n",
              "      <td>1.0</td>\n",
              "    </tr>\n",
              "    <tr>\n",
              "      <th>1</th>\n",
              "      <td>1465412560</td>\n",
              "      <td>VIEW</td>\n",
              "      <td>8890720798209849691</td>\n",
              "      <td>-1032019229384696495</td>\n",
              "      <td>3621737643587579081</td>\n",
              "      <td>Mozilla/5.0 (Macintosh; Intel Mac OS X 10_11_2...</td>\n",
              "      <td>NY</td>\n",
              "      <td>US</td>\n",
              "      <td>1.0</td>\n",
              "    </tr>\n",
              "    <tr>\n",
              "      <th>2</th>\n",
              "      <td>1465416190</td>\n",
              "      <td>VIEW</td>\n",
              "      <td>310515487419366995</td>\n",
              "      <td>-1130272294246983140</td>\n",
              "      <td>2631864456530402479</td>\n",
              "      <td>NaN</td>\n",
              "      <td>NaN</td>\n",
              "      <td>NaN</td>\n",
              "      <td>1.0</td>\n",
              "    </tr>\n",
              "    <tr>\n",
              "      <th>3</th>\n",
              "      <td>1465413895</td>\n",
              "      <td>FOLLOW</td>\n",
              "      <td>310515487419366995</td>\n",
              "      <td>344280948527967603</td>\n",
              "      <td>-3167637573980064150</td>\n",
              "      <td>NaN</td>\n",
              "      <td>NaN</td>\n",
              "      <td>NaN</td>\n",
              "      <td>4.0</td>\n",
              "    </tr>\n",
              "    <tr>\n",
              "      <th>4</th>\n",
              "      <td>1465412290</td>\n",
              "      <td>VIEW</td>\n",
              "      <td>-7820640624231356730</td>\n",
              "      <td>-445337111692715325</td>\n",
              "      <td>5611481178424124714</td>\n",
              "      <td>NaN</td>\n",
              "      <td>NaN</td>\n",
              "      <td>NaN</td>\n",
              "      <td>1.0</td>\n",
              "    </tr>\n",
              "  </tbody>\n",
              "</table>\n",
              "</div>\n",
              "      <button class=\"colab-df-convert\" onclick=\"convertToInteractive('df-e476b96c-7a99-425e-99e5-0ca2b53f97a6')\"\n",
              "              title=\"Convert this dataframe to an interactive table.\"\n",
              "              style=\"display:none;\">\n",
              "        \n",
              "  <svg xmlns=\"http://www.w3.org/2000/svg\" height=\"24px\"viewBox=\"0 0 24 24\"\n",
              "       width=\"24px\">\n",
              "    <path d=\"M0 0h24v24H0V0z\" fill=\"none\"/>\n",
              "    <path d=\"M18.56 5.44l.94 2.06.94-2.06 2.06-.94-2.06-.94-.94-2.06-.94 2.06-2.06.94zm-11 1L8.5 8.5l.94-2.06 2.06-.94-2.06-.94L8.5 2.5l-.94 2.06-2.06.94zm10 10l.94 2.06.94-2.06 2.06-.94-2.06-.94-.94-2.06-.94 2.06-2.06.94z\"/><path d=\"M17.41 7.96l-1.37-1.37c-.4-.4-.92-.59-1.43-.59-.52 0-1.04.2-1.43.59L10.3 9.45l-7.72 7.72c-.78.78-.78 2.05 0 2.83L4 21.41c.39.39.9.59 1.41.59.51 0 1.02-.2 1.41-.59l7.78-7.78 2.81-2.81c.8-.78.8-2.07 0-2.86zM5.41 20L4 18.59l7.72-7.72 1.47 1.35L5.41 20z\"/>\n",
              "  </svg>\n",
              "      </button>\n",
              "      \n",
              "  <style>\n",
              "    .colab-df-container {\n",
              "      display:flex;\n",
              "      flex-wrap:wrap;\n",
              "      gap: 12px;\n",
              "    }\n",
              "\n",
              "    .colab-df-convert {\n",
              "      background-color: #E8F0FE;\n",
              "      border: none;\n",
              "      border-radius: 50%;\n",
              "      cursor: pointer;\n",
              "      display: none;\n",
              "      fill: #1967D2;\n",
              "      height: 32px;\n",
              "      padding: 0 0 0 0;\n",
              "      width: 32px;\n",
              "    }\n",
              "\n",
              "    .colab-df-convert:hover {\n",
              "      background-color: #E2EBFA;\n",
              "      box-shadow: 0px 1px 2px rgba(60, 64, 67, 0.3), 0px 1px 3px 1px rgba(60, 64, 67, 0.15);\n",
              "      fill: #174EA6;\n",
              "    }\n",
              "\n",
              "    [theme=dark] .colab-df-convert {\n",
              "      background-color: #3B4455;\n",
              "      fill: #D2E3FC;\n",
              "    }\n",
              "\n",
              "    [theme=dark] .colab-df-convert:hover {\n",
              "      background-color: #434B5C;\n",
              "      box-shadow: 0px 1px 3px 1px rgba(0, 0, 0, 0.15);\n",
              "      filter: drop-shadow(0px 1px 2px rgba(0, 0, 0, 0.3));\n",
              "      fill: #FFFFFF;\n",
              "    }\n",
              "  </style>\n",
              "\n",
              "      <script>\n",
              "        const buttonEl =\n",
              "          document.querySelector('#df-e476b96c-7a99-425e-99e5-0ca2b53f97a6 button.colab-df-convert');\n",
              "        buttonEl.style.display =\n",
              "          google.colab.kernel.accessAllowed ? 'block' : 'none';\n",
              "\n",
              "        async function convertToInteractive(key) {\n",
              "          const element = document.querySelector('#df-e476b96c-7a99-425e-99e5-0ca2b53f97a6');\n",
              "          const dataTable =\n",
              "            await google.colab.kernel.invokeFunction('convertToInteractive',\n",
              "                                                     [key], {});\n",
              "          if (!dataTable) return;\n",
              "\n",
              "          const docLinkHtml = 'Like what you see? Visit the ' +\n",
              "            '<a target=\"_blank\" href=https://colab.research.google.com/notebooks/data_table.ipynb>data table notebook</a>'\n",
              "            + ' to learn more about interactive tables.';\n",
              "          element.innerHTML = '';\n",
              "          dataTable['output_type'] = 'display_data';\n",
              "          await google.colab.output.renderOutput(dataTable, element);\n",
              "          const docLink = document.createElement('div');\n",
              "          docLink.innerHTML = docLinkHtml;\n",
              "          element.appendChild(docLink);\n",
              "        }\n",
              "      </script>\n",
              "    </div>\n",
              "  </div>\n",
              "  "
            ]
          },
          "metadata": {},
          "execution_count": 20
        }
      ]
    },
    {
      "cell_type": "code",
      "source": [
        "\"\"\"import nltk\n",
        "nltk.download('stopwords')\"\"\""
      ],
      "metadata": {
        "colab": {
          "base_uri": "https://localhost:8080/",
          "height": 36
        },
        "id": "iXIIJm0_jBnL",
        "outputId": "62ea9db7-bcf1-4015-a4be-f93bc1326deb"
      },
      "execution_count": 21,
      "outputs": [
        {
          "output_type": "execute_result",
          "data": {
            "text/plain": [
              "\"import nltk\\nnltk.download('stopwords')\""
            ],
            "application/vnd.google.colaboratory.intrinsic+json": {
              "type": "string"
            }
          },
          "metadata": {},
          "execution_count": 21
        }
      ]
    },
    {
      "cell_type": "code",
      "source": [
        "import pandas as pd\n",
        "import numpy as np\n",
        "from sklearn.metrics.pairwise import cosine_similarity\n",
        "\n",
        "# Merge the two datasets\n",
        "merged_data = pd.merge(users_interactions, shared_article, on='contentId')\n",
        "\n",
        "# Create the user-item matrix\n",
        "user_item_matrix = merged_data.pivot_table(index='personId', columns='contentId', values='eventStrength', aggfunc='mean').fillna(0)\n",
        "\n",
        "print(merged_data)"
      ],
      "metadata": {
        "id": "0EQX1tBY7lN_",
        "colab": {
          "base_uri": "https://localhost:8080/"
        },
        "outputId": "16537854-1505-4b03-ae7e-73aa6d2d7132"
      },
      "execution_count": 22,
      "outputs": [
        {
          "output_type": "stream",
          "name": "stdout",
          "text": [
            "       timestamp_x eventType_x            contentId             personId  \\\n",
            "0       1465413032        VIEW -3499919498720038879 -8845298781299428018   \n",
            "1       1465413046        VIEW -3499919498720038879 -8845298781299428018   \n",
            "2       1465907360        VIEW -3499919498720038879  -108842214936804958   \n",
            "3       1465583412        VIEW -3499919498720038879 -1443636648652872475   \n",
            "4       1465582468        VIEW -3499919498720038879 -1443636648652872475   \n",
            "...            ...         ...                  ...                  ...   \n",
            "72169   1482929120        VIEW -7108012586837980940 -4028919343899978105   \n",
            "72170   1483616272        VIEW  7526977287801930517 -3643155458357242906   \n",
            "72171   1485429106        VIEW  -282629989972409543  5660542693104786364   \n",
            "72172   1485429066        VIEW -6468782714472551646  5660542693104786364   \n",
            "72173   1485868866        VIEW -9040419159428373932 -7496361692498935601   \n",
            "\n",
            "                 sessionId                                          userAgent  \\\n",
            "0      1264196770339959068                                                NaN   \n",
            "1      1264196770339959068  Mozilla/5.0 (Macintosh; Intel Mac OS X 10_11_5...   \n",
            "2     -2163423831651021975  Mozilla/5.0 (Windows NT 6.3; WOW64) AppleWebKi...   \n",
            "3     -3976301106281818872  Mozilla/5.0 (X11; Linux x86_64) AppleWebKit/53...   \n",
            "4     -3976301106281818872  Mozilla/5.0 (X11; Linux x86_64) AppleWebKit/53...   \n",
            "...                    ...                                                ...   \n",
            "72169  1103146045123415934  Mozilla/5.0 (Windows NT 10.0; Win64; x64) Appl...   \n",
            "72170  8781579964260038140  Mozilla/5.0 (Macintosh; Intel Mac OS X 10_12_1...   \n",
            "72171  -537882753893230818  Mozilla/5.0 (Windows NT 10.0; WOW64) AppleWebK...   \n",
            "72172  -537882753893230818  Mozilla/5.0 (Windows NT 10.0; WOW64) AppleWebK...   \n",
            "72173 -1030459773185003253  Mozilla/5.0 (Windows NT 10.0; Win64; x64) Appl...   \n",
            "\n",
            "      userRegion userCountry  eventStrength  timestamp_y  ...  \\\n",
            "0            NaN         NaN            1.0   1465309434  ...   \n",
            "1             SP          BR            1.0   1465309434  ...   \n",
            "2             SP          BR            1.0   1465309434  ...   \n",
            "3             SP          BR            1.0   1465309434  ...   \n",
            "4             SP          BR            1.0   1465309434  ...   \n",
            "...          ...         ...            ...          ...  ...   \n",
            "72169         SP          BR            1.0   1482929117  ...   \n",
            "72170         MG          BR            1.0   1483616270  ...   \n",
            "72171         SP          BR            1.0   1485429102  ...   \n",
            "72172         SP          BR            1.0   1485429024  ...   \n",
            "72173         SP          BR            1.0   1485868862  ...   \n",
            "\n",
            "            authorPersonId      authorSessionId  \\\n",
            "0     -1032019229384696495 -7696592431575292648   \n",
            "1     -1032019229384696495 -7696592431575292648   \n",
            "2     -1032019229384696495 -7696592431575292648   \n",
            "3     -1032019229384696495 -7696592431575292648   \n",
            "4     -1032019229384696495 -7696592431575292648   \n",
            "...                    ...                  ...   \n",
            "72169 -4028919343899978105  1103146045123415934   \n",
            "72170 -3643155458357242906  8781579964260038140   \n",
            "72171  5660542693104786364  -537882753893230818   \n",
            "72172  5660542693104786364  -537882753893230818   \n",
            "72173 -7496361692498935601 -1030459773185003253   \n",
            "\n",
            "                                         authorUserAgent authorRegion  \\\n",
            "0                                                    NaN          NaN   \n",
            "1                                                    NaN          NaN   \n",
            "2                                                    NaN          NaN   \n",
            "3                                                    NaN          NaN   \n",
            "4                                                    NaN          NaN   \n",
            "...                                                  ...          ...   \n",
            "72169  Mozilla/5.0 (Windows NT 10.0; Win64; x64) Appl...           SP   \n",
            "72170  Mozilla/5.0 (Macintosh; Intel Mac OS X 10_12_1...           MG   \n",
            "72171  Mozilla/5.0 (Windows NT 10.0; WOW64) AppleWebK...           SP   \n",
            "72172  Mozilla/5.0 (Windows NT 10.0; WOW64) AppleWebK...           SP   \n",
            "72173  Mozilla/5.0 (Windows NT 10.0; Win64; x64) Appl...           SP   \n",
            "\n",
            "      authorCountry contentType  \\\n",
            "0               NaN        HTML   \n",
            "1               NaN        HTML   \n",
            "2               NaN        HTML   \n",
            "3               NaN        HTML   \n",
            "4               NaN        HTML   \n",
            "...             ...         ...   \n",
            "72169            BR        HTML   \n",
            "72170            BR        HTML   \n",
            "72171            BR        HTML   \n",
            "72172            BR        HTML   \n",
            "72173            BR        HTML   \n",
            "\n",
            "                                                     url  \\\n",
            "0                 http://techcrunch.com/2016/06/07/hiri/   \n",
            "1                 http://techcrunch.com/2016/06/07/hiri/   \n",
            "2                 http://techcrunch.com/2016/06/07/hiri/   \n",
            "3                 http://techcrunch.com/2016/06/07/hiri/   \n",
            "4                 http://techcrunch.com/2016/06/07/hiri/   \n",
            "...                                                  ...   \n",
            "72169  https://www.smashingmagazine.com/2016/12/digit...   \n",
            "72170  https://blog.medium.com/renewing-mediums-focus...   \n",
            "72171  http://www.valor.com.br/financas/4847178/santa...   \n",
            "72172  http://www.valor.com.br/financas/4848194/santa...   \n",
            "72173  http://www.inovacaotecnologica.com.br/noticias...   \n",
            "\n",
            "                                                   title  \\\n",
            "0          Hiri wants to fix the workplace email problem   \n",
            "1          Hiri wants to fix the workplace email problem   \n",
            "2          Hiri wants to fix the workplace email problem   \n",
            "3          Hiri wants to fix the workplace email problem   \n",
            "4          Hiri wants to fix the workplace email problem   \n",
            "...                                                  ...   \n",
            "72169  The Ultimate Digital Clean-Up Checklist: Are Y...   \n",
            "72170                            Renewing Medium's focus   \n",
            "72171  Santander Brasil gera 21% do resultado da matr...   \n",
            "72172  Santander Brasil tem lucro gerencial de R$ 1,9...   \n",
            "72173  Depois da Inteligência Artificial, vem aí a In...   \n",
            "\n",
            "                                                    text lang  \n",
            "0      Hiri is the latest startup trying to fix email...   en  \n",
            "1      Hiri is the latest startup trying to fix email...   en  \n",
            "2      Hiri is the latest startup trying to fix email...   en  \n",
            "3      Hiri is the latest startup trying to fix email...   en  \n",
            "4      Hiri is the latest startup trying to fix email...   en  \n",
            "...                                                  ...  ...  \n",
            "72169  With a couple of days left until New Year's Ev...   en  \n",
            "72170  We've decided to make some major changes at Me...   en  \n",
            "72171  SÃO PAULO - As operações do Santander no Brasi...   pt  \n",
            "72172  SÃO PAULO - O Santander Brasil obteve lucro lí...   pt  \n",
            "72173  Hoje estamos publicando dois artigos com difer...   pt  \n",
            "\n",
            "[72174 rows x 21 columns]\n"
          ]
        }
      ]
    },
    {
      "cell_type": "markdown",
      "source": [
        "Model development: Content Based Filtering"
      ],
      "metadata": {
        "id": "lsYGFzKNfD45"
      }
    },
    {
      "cell_type": "code",
      "source": [
        "# Compute the cosine similarity between the item-item matrix and the user-item matrix\n",
        "item_item_similarity = cosine_similarity(user_item_matrix.T)\n",
        "user_item_similarity = cosine_similarity(user_item_matrix)"
      ],
      "metadata": {
        "id": "ascQq6Sd8tVJ"
      },
      "execution_count": 23,
      "outputs": []
    },
    {
      "cell_type": "code",
      "source": [
        "# Make recommendations\n",
        "def recommend_articles(user_id, item_item_similarity, user_item_matrix):\n",
        "    item_index = user_item_matrix.columns\n",
        "    user_vector = user_item_matrix.loc[user_id].values.reshape(-1, 1)\n",
        "    scores = item_item_similarity.dot(user_vector)\n",
        "    scores = pd.DataFrame(scores, index=item_index, columns=['score'])\n",
        "    scores = scores.sort_values('score', ascending=False)\n",
        "    return scores.index[:10].tolist()"
      ],
      "metadata": {
        "id": "4mQaDsAQ8xc_"
      },
      "execution_count": 24,
      "outputs": []
    },
    {
      "cell_type": "code",
      "source": [
        "def get_article_info(article_id, article_data):\n",
        "    \"\"\"Retrieve the title and text of an article given its ID.\"\"\"\n",
        "    title = article_data.loc[article_id]['title']\n",
        "    text = article_data.loc[article_id]['text']\n",
        "    return title, text\n",
        "\n",
        "article_data = shared_article\n",
        "\n",
        "# Set the index of the article data DataFrame to the article IDs\n",
        "article_data.set_index('contentId', inplace=True)"
      ],
      "metadata": {
        "id": "gOEpNySDDg0v"
      },
      "execution_count": 25,
      "outputs": []
    },
    {
      "cell_type": "code",
      "source": [
        "# Recommend articles for a specific user\n",
        "user_id = 344280948527967603\n",
        "recommended_articles = recommend_articles(user_id, item_item_similarity, user_item_matrix)\n",
        "\n",
        "# Print the title and text of each recommended article\n",
        "print(f\"{recommended_articles}\")\n",
        "for article_id in recommended_articles:\n",
        "    title, text = get_article_info(article_id, article_data)\n",
        "    print(f\"Title: {title}\")"
      ],
      "metadata": {
        "colab": {
          "base_uri": "https://localhost:8080/"
        },
        "id": "0zjXjuK376gu",
        "outputId": "47ffc406-8210-4f12-cc15-c0dff3282009"
      },
      "execution_count": 26,
      "outputs": [
        {
          "output_type": "stream",
          "name": "stdout",
          "text": [
            "[4876769046116846438, 310515487419366995, -908052164352446106, 3569727790804487273, 8254285966695461849, -5784991738549272379, -1068603220639552685, 521382866757596943, -3723217532224917485, -4974757204495953627]\n",
            "Title: Shopping em BH terá fazenda urbana de 2.700 m²\n",
            "Title: 71 erros de português que precisam sumir dos seus e-mails\n",
            "Title: IoT a favor do relacionamento médico-paciente\n",
            "Title: DualShock 4 Repair\n",
            "Title: Dr. consulta: uma revolução no setor da saúde\n",
            "Title: NodeMCU (ESP8266) o módulo que desbanca o Arduino e facilitará a Internet das Coisas...\n",
            "Title: Onde a tecnologia e o cuidado se encontram? - Saúde Business\n",
            "Title: Optimize Arduino Memory Usage\n",
            "Title: 11 Internet of Things (IoT) Protocols You Need to Know About\n",
            "Title: Alecrim/AlecrimCoreData\n"
          ]
        }
      ]
    },
    {
      "cell_type": "markdown",
      "source": [
        "Evaluating model with precision and recall"
      ],
      "metadata": {
        "id": "OZlJupvN3Opb"
      }
    },
    {
      "cell_type": "code",
      "source": [
        "# Use user_id same as the previous cell\n",
        "user_id = 344280948527967603\n",
        "recommended_articles = recommend_articles(user_id, item_item_similarity, user_item_matrix)\n",
        "\n",
        "# Get the ground truth articles for the user\n",
        "truth_articles = users_interactions[users_interactions.personId == user_id]['contentId'].tolist()\n",
        "truth_articles"
      ],
      "metadata": {
        "colab": {
          "base_uri": "https://localhost:8080/"
        },
        "id": "kM9ssLSZ3R_2",
        "outputId": "6a1601ea-b475-42ef-b3a6-8be179a177c3"
      },
      "execution_count": 27,
      "outputs": [
        {
          "output_type": "execute_result",
          "data": {
            "text/plain": [
              "[310515487419366995,\n",
              " 310515487419366995,\n",
              " 310515487419366995,\n",
              " 310515487419366995,\n",
              " 310515487419366995,\n",
              " 3569727790804487273,\n",
              " 310515487419366995,\n",
              " -5784991738549272379,\n",
              " -5784991738549272379,\n",
              " 310515487419366995,\n",
              " 310515487419366995,\n",
              " -1068603220639552685,\n",
              " 521382866757596943,\n",
              " 521382866757596943,\n",
              " 521382866757596943,\n",
              " 521382866757596943,\n",
              " -908052164352446106,\n",
              " 8254285966695461849,\n",
              " 4876769046116846438,\n",
              " 4876769046116846438,\n",
              " 4876769046116846438,\n",
              " 4876769046116846438,\n",
              " 4876769046116846438,\n",
              " 4876769046116846438,\n",
              " 4876769046116846438]"
            ]
          },
          "metadata": {},
          "execution_count": 27
        }
      ]
    },
    {
      "cell_type": "code",
      "source": [
        "# Compute precision and recall\n",
        "true_positives = len(set(recommended_articles).intersection(truth_articles))\n",
        "precision = true_positives / len(recommended_articles)\n",
        "recall = true_positives / len(truth_articles)\n",
        "print(f\"Precision score: {precision} \\n Recall score: {recall}\")"
      ],
      "metadata": {
        "colab": {
          "base_uri": "https://localhost:8080/"
        },
        "id": "iaDDM29g856f",
        "outputId": "127299a9-eaf9-40cd-cef3-39e60e65def1"
      },
      "execution_count": 28,
      "outputs": [
        {
          "output_type": "stream",
          "name": "stdout",
          "text": [
            "Precision score: 0.8 \n",
            " Recall score: 0.32\n"
          ]
        }
      ]
    }
  ]
}